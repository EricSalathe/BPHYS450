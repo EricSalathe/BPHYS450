{
 "cells": [
  {
   "cell_type": "markdown",
   "metadata": {},
   "source": [
    "## Single Driver Model"
   ]
  },
  {
   "cell_type": "markdown",
   "metadata": {},
   "source": [
    "We have the acceleration for a single car from the IDM model as \n",
    "<br>\n",
    "    $\\frac{dv}{dt}=a\\left[1\\:-\\:\\left(\\frac{v}{v_0}\\right)^{\\delta}\\:-\\left(\\frac{s^{\\ast}\\left(v,\\Delta v\\right)}{s}\\right)^2\\right]$\n",
    "<br>\n",
    "where <br> \n",
    "$s^{\\ast}\\left(v,\\Delta v\\right)=s_0+vT+\\frac{v\\Delta v}{2\\sqrt{ab}}$ <br>\n",
    "<br>\n",
    "If we model a single car following a car ahead moving at consant speed $v_{a}$ and starting at position $x_a0$, then the car ahead has position $x_a = x_a0 + v_a t$. We can then compute $\\Delta v = v - v_a$ and $s = x_a - L - x$. \n",
    "<br><br>\n",
    "In python, this math becomes"
   ]
  },
  {
   "cell_type": "code",
   "execution_count": 1,
   "metadata": {},
   "outputs": [],
   "source": [
    "from numpy import linspace,array,zeros,log,exp,sin,cos,sqrt,pi\n",
    "\n",
    "def rate_func( t, V ):\n",
    "    # RATE_FUNC: IDM Car model\n",
    "    # Model a car approaching a car ahead moving at constant speed\n",
    "    \n",
    "    # unpack\n",
    "    x = V[0] # position\n",
    "    v = V[1] # velocity\n",
    "    \n",
    "    # Position of the car ahead\n",
    "    x_a = x_a0 + v_a * t\n",
    "    \n",
    "    # Compute acceleration according to IDM\n",
    "    s = x_a - L - x # distance to car ahead\n",
    "    delv = v - v_a  # approach speed to car ahead\n",
    "        \n",
    "    star = s0 + T*v + v*delv/(2*sqrt(a_accel*b_decel))\n",
    "        \n",
    "    a_idm = a_accel*(1 - (v/v0)**delta_exp - (star/s)**2) # x component of acceleration\n",
    "          \n",
    "    # compute derivatives\n",
    "    dx = v\n",
    "    dv = a_idm\n",
    "    \n",
    "    # pack rate array\n",
    "    rate = array([dx, dv])\n",
    "    return rate"
   ]
  },
  {
   "cell_type": "markdown",
   "metadata": {},
   "source": [
    "Now set the parameters for the IDM model"
   ]
  },
  {
   "cell_type": "code",
   "execution_count": 2,
   "metadata": {},
   "outputs": [],
   "source": [
    "# set parameters\n",
    "T = 1.8 #time headway\n",
    "delta_exp = 4\n",
    "L = 5\n",
    "a_accel = 0.5\n",
    "b_decel = 2\n",
    "v0 = 28 #desired speed in m/s\n",
    "s0 = 2.0 #desired gap m"
   ]
  },
  {
   "cell_type": "markdown",
   "metadata": {},
   "source": [
    "Set the starting position and speed of the car ahead:"
   ]
  },
  {
   "cell_type": "code",
   "execution_count": 3,
   "metadata": {},
   "outputs": [],
   "source": [
    "# Starting position and speed of car ahead\n",
    "x_a0 = 2000. \n",
    "v_a = v0/2 "
   ]
  },
  {
   "cell_type": "markdown",
   "metadata": {},
   "source": [
    "Set the I.C. and time domain to solve for:"
   ]
  },
  {
   "cell_type": "code",
   "execution_count": 4,
   "metadata": {},
   "outputs": [],
   "source": [
    "# set initial conditions for the car being modeled\n",
    "xinit = 0\n",
    "vinit = 0\n",
    "# pack i.c.\n",
    "X0=array([xinit, vinit])\n",
    "\n",
    "# set the time interval for solving\n",
    "Tstart=0\n",
    "Tend =  400 # seconds\n",
    "time = linspace(Tstart,Tend,100)"
   ]
  },
  {
   "cell_type": "markdown",
   "metadata": {},
   "source": [
    "Use odeint to solve"
   ]
  },
  {
   "cell_type": "code",
   "execution_count": 5,
   "metadata": {},
   "outputs": [],
   "source": [
    "from scipy.integrate import odeint\n",
    "Xout = odeint(rate_func, X0, time, tfirst=True) "
   ]
  },
  {
   "cell_type": "markdown",
   "metadata": {},
   "source": [
    "Unpack position and velocity from the output array and plot x and v during the period simulated. The syntax here creates a figure object, fig, and two sub plot objects  dplt, vplt for the distance and velocity plots. These objects are then modified to produce the graphic. "
   ]
  },
  {
   "cell_type": "code",
   "execution_count": 6,
   "metadata": {},
   "outputs": [
    {
     "data": {
      "text/plain": [
       "[Text(0, 0.5, 'Velocity (m/s)'), Text(0.5, 0, 'Time (sec)')]"
      ]
     },
     "execution_count": 6,
     "metadata": {},
     "output_type": "execute_result"
    },
    {
     "data": {
      "image/png": "[encoded data removed]",
      "text/plain": [
       "<Figure size 432x288 with 2 Axes>"
      ]
     },
     "metadata": {
      "needs_background": "light"
     },
     "output_type": "display_data"
    }
   ],
   "source": [
    "# unpack\n",
    "xout=Xout[:,0]\n",
    "vout=Xout[:,1]\n",
    "\n",
    "# Plot two figures\n",
    "\n",
    "import matplotlib.pyplot as plt\n",
    "\n",
    "# make fig with 2 sub plots, dplt for distance vplt for velocity\n",
    "fig, [dplt,vplt] = plt.subplots(2) \n",
    "\n",
    "fig.suptitle('Single Car')\n",
    "\n",
    "dplt.plot(time,xout)\n",
    "dplt.set(ylabel='Distance (m)')\n",
    "dplt.label_outer()\n",
    "\n",
    "vplt.plot(time,vout)\n",
    "vplt.set(xlabel='Time (sec)', ylabel='Velocity (m/s)')"
   ]
  },
  {
   "cell_type": "code",
   "execution_count": null,
   "metadata": {},
   "outputs": [],
   "source": []
  }
 ],
 "metadata": {
  "kernelspec": {
   "display_name": "Python 3",
   "language": "python",
   "name": "python3"
  },
  "language_info": {
   "codemirror_mode": {
    "name": "ipython",
    "version": 3
   },
   "file_extension": ".py",
   "mimetype": "text/x-python",
   "name": "python",
   "nbconvert_exporter": "python",
   "pygments_lexer": "ipython3",
   "version": "3.8.3"
  }
 },
 "nbformat": 4,
 "nbformat_minor": 4
}
