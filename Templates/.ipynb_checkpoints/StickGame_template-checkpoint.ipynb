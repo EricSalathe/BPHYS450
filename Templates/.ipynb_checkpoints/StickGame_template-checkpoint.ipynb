{
 "cells": [
  {
   "cell_type": "markdown",
   "id": "e54e370a-13ae-4d61-8efc-a2ede91420e4",
   "metadata": {},
   "source": [
    "## Stick Game\n",
    "1) 100 children stand in a line. The first one holds a basket full of sticks. Initially, none of the children has a stick.\n",
    "\n",
    "2) Each child along the line takes a turn as \"runner\" and carries the basket of sticks. The runner starts with themselves and walks down the line of children giving or taking away sticks. After they are done, the runners return to their position, handing the basket off to the next runner, and are done for the game.\n",
    "\n",
    "3) The runner goes down the line of children, starting with themselves. \n",
    " For each child whose position is a multiple of their own, then \n",
    " * if the child has a stick, the runner takes it away.\n",
    " * if the child has no stick, the runner gives a stick.\n",
    "(ie if runner is in position 7, they check whether they and child 17 21 28 etc have sticks)\n",
    "\n",
    "Who has a stick at the end of the game?"
   ]
  },
  {
   "cell_type": "markdown",
   "id": "34a2e167-a527-4dc3-95e6-c3fe5bfa9e2b",
   "metadata": {},
   "source": [
    "Start by importing some essentials from numpy"
   ]
  },
  {
   "cell_type": "code",
   "execution_count": null,
   "id": "0e2fb305-f4bd-4bc9-b00b-bb0a3593fab9",
   "metadata": {},
   "outputs": [],
   "source": [
    "from numpy import zeros"
   ]
  },
  {
   "cell_type": "markdown",
   "id": "59096529-493e-46ce-ae01-d86ea0468fb4",
   "metadata": {},
   "source": [
    "Create an array  containing the number of sticks each child holds."
   ]
  },
  {
   "cell_type": "code",
   "execution_count": null,
   "id": "a24df916-10ff-4bad-bae2-270709d3a740",
   "metadata": {},
   "outputs": [],
   "source": [
    "sticks = zeros(100)"
   ]
  },
  {
   "cell_type": "markdown",
   "id": "50b5dc16-48c8-4167-bdf8-11de56b91459",
   "metadata": {},
   "source": [
    "The values in sticks can only be either 0 or 1 according to the rules.\n",
    "\n",
    "Be careful with array indexing: child #1 is indicated by sticks[0]\n",
    "\n",
    "You have two options for modeling the runner:\n",
    "a) Use the % operator to find modulus (remainder on division) to check if each child is a multiple\n",
    "b) Use a step size in the range function to skip over children as the runner goes down the line\n",
    "\n",
    "Here's how to structure option b: At any one time, there are two players interacting, the runner with the basket, and the child in the line where the runner stops. So we need nested loops. The outer loop has each player taking a turn as runner. The inner loop goes thru each child the runner interacts with. Note that the step size is runner+1 to account for the offset."
   ]
  },
  {
   "cell_type": "code",
   "execution_count": null,
   "id": "c96f0628-249e-45fa-835a-20778a7fd669",
   "metadata": {},
   "outputs": [],
   "source": [
    "for runner in range(100):\n",
    "    for child in range(runner,100,runner+1):\n",
    "        "
   ]
  },
  {
   "cell_type": "code",
   "execution_count": null,
   "id": "a2011230-804d-4195-a79c-d05030f31188",
   "metadata": {},
   "outputs": [],
   "source": []
  }
 ],
 "metadata": {
  "kernelspec": {
   "display_name": "Python 3 (ipykernel)",
   "language": "python",
   "name": "python3"
  },
  "language_info": {
   "codemirror_mode": {
    "name": "ipython",
    "version": 3
   },
   "file_extension": ".py",
   "mimetype": "text/x-python",
   "name": "python",
   "nbconvert_exporter": "python",
   "pygments_lexer": "ipython3",
   "version": "3.9.12"
  }
 },
 "nbformat": 4,
 "nbformat_minor": 5
}
