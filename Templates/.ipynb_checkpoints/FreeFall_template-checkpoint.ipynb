{
 "cells": [
  {
   "cell_type": "markdown",
   "metadata": {
    "id": "IMqo-TUQDCUJ"
   },
   "source": [
    "## Free Fall\n",
    "\n",
    "Use the lotke code to solve for free fall using F=ma. Assume no drag so F is just gravity, -mg. Write F=ma as a system of two 1st order ODEs fo y and v (vertical displacement and vertical velocity).  Here's the code to wrap up the rate function\n"
   ]
  },
  {
   "cell_type": "code",
   "execution_count": null,
   "metadata": {
    "id": "Tfy1ElN3DATE"
   },
   "outputs": [],
   "source": [
    "from numpy import linspace,array,arange, log,exp,sin,cos,sqrt, pi, zeros, ones, sign\n",
    "import numpy as np\n",
    "\n",
    "g = 9.81\n",
    "\n",
    "def falling( t, X ):\n",
    "    \"\"\"\n",
    "    RATE_FUNC for Newton's 2nd Law  F = ma\n",
    "    \n",
    "    2nd order ODE \n",
    "    a = d2x/dt2 = F/m\n",
    "    \n",
    "    \"\"\"\n",
    "    #  unpack\n",
    "        \n",
    "    # compute derivatives\n",
    "    dy = \n",
    "    dv = \n",
    "        \n",
    "    # pack rate array\n",
    "    rate = \n",
    "        \n",
    "    return rate\n",
    "\n",
    "# set some initial conditions\n",
    "y0 = 100\n",
    "v0 = 20\n",
    "Y0 =  # pack the i.c. into a column vector\n",
    "\n",
    "# set the time interval for solving\n",
    "Tstart=0\n",
    "Tend = 10 # s\n",
    "\n",
    "# Form Time array\n",
    "\n",
    "T = linspace(Tstart,Tend,100)\n",
    "\n",
    "# solve the ODE\n",
    "from scipy.integrate import odeint\n",
    "X = odeint(falling, Y0, T, tfirst=True)\n",
    "\n",
    "# unpack the results. In the output array, variables are columns, times are rows\n",
    "y = X[:,0]\n",
    "v = X[:,1]\n",
    "\n",
    "# make some nice plots\n",
    "from matplotlib.pyplot import plot,xlabel,ylabel,legend,show, figure, subplot, xlim\n",
    "\n",
    "plot (T,y, label='Height')\n",
    "plot (T,v, label='Velocity')\n",
    "xlabel('Seconds')\n",
    "ylabel('m or m/s')\n",
    "legend()"
   ]
  }
 ],
 "metadata": {
  "colab": {
   "authorship_tag": "ABX9TyMuOK0Qz1vhPOFDS/UtHNR5",
   "name": "FreeFall_template.ipynb",
   "provenance": []
  },
  "kernelspec": {
   "display_name": "Python 3 (ipykernel)",
   "language": "python",
   "name": "python3"
  },
  "language_info": {
   "codemirror_mode": {
    "name": "ipython",
    "version": 3
   },
   "file_extension": ".py",
   "mimetype": "text/x-python",
   "name": "python",
   "nbconvert_exporter": "python",
   "pygments_lexer": "ipython3",
   "version": "3.9.12"
  }
 },
 "nbformat": 4,
 "nbformat_minor": 1
}
