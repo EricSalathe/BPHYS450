{
 "cells": [
  {
   "cell_type": "markdown",
   "id": "f61c71cf",
   "metadata": {},
   "source": [
    "## Rental Cars\n",
    "\n",
    "A car rental company has two locations, Albany and Boston. Some customers do “one-way rentals,” picking up a car in Albany and returning it in Boston, or the other way around. Each week 5% of the cars in Albany are dropped off in Boston, and 3% of the cars in Boston get dropped off in Albany. At the beginning of the year, there are 150 cars at each location.\n",
    "\n",
    "Write a program that plots the number of cars in Albany and Boston each week for 1 year (52 weeks) to find if the number of cars eventually stays the same. Mark both cities on the same plot with different symbols or colors.\n",
    "\n",
    "Hints:\n",
    "\n",
    "Create arrays boston and albany to contain the 52 values using the zeros function.\n",
    "\n",
    "First write the lines of code that update the number of cars in each location from one week to the next. Initialize the variables Albany and Boston with the number of cars in each location at the beginning of the week. Calculate the number of cars moving Albany->Boston and Boston->Albany. Then compute the next values for the arrays albany and boston.\n",
    "\n",
    "Put this in a loop to repeat for 52 weeks\n",
    "\n",
    "Note: cars are countable things, so a and b should always be integer values. You can use the rint function in numpy to round off the number of cars that move during each week. \n",
    "https://numpy.org/doc/stable/reference/generated/numpy.rint.html\n",
    "\n",
    "You can start your program like this:"
   ]
  },
  {
   "cell_type": "code",
   "execution_count": 5,
   "id": "7ff26686",
   "metadata": {},
   "outputs": [],
   "source": [
    "from numpy import zeros, rint\n",
    "from matplotlib.pyplot import figure, plot, show\n",
    "import matplotlib.pyplot as plt\n",
    "\n",
    "\n",
    "nweek=52\n",
    "Albany = zeros(nweek)\n",
    "Boston = zeros(nweek)"
   ]
  },
  {
   "cell_type": "markdown",
   "id": "bb4347a3",
   "metadata": {},
   "source": [
    "## Plots\n",
    "\n",
    "When complete, plot a the number of cars at each week using the pyplot package https://matplotlib.org/tutorials/introductory/pyplot.html\n"
   ]
  },
  {
   "cell_type": "code",
   "execution_count": 6,
   "id": "ae0f5a16",
   "metadata": {},
   "outputs": [
    {
     "data": {
      "image/png": "[encoded data removed]",
      "text/plain": [
       "<Figure size 432x288 with 1 Axes>"
      ]
     },
     "metadata": {
      "needs_background": "light"
     },
     "output_type": "display_data"
    }
   ],
   "source": [
    "# Plot the resuls\n",
    "from matplotlib.pyplot import figure, plot, show, xlim, xlabel, title, legend\n",
    "import matplotlib.pyplot as plt\n",
    "\n",
    "figure()\n",
    "plot(arange(nweek), Albany, 'ro', label='Albany') # note that our x axis is just the sequence\n",
    "plot(arange(nweek), Boston, 'bo', label='Boston') # 1,2,...,52 which we make with 1:Nweeks\n",
    "\n",
    "# Annotate the plot\n",
    "xlim((0, nweek)) # adujust x-axis limits\n",
    "xlabel('Week')\n",
    "ylabel('Number of Cars')\n",
    "title('Rental Cars')\n",
    "legend() \n",
    "show()"
   ]
  },
  {
   "cell_type": "code",
   "execution_count": null,
   "id": "30ec6a89",
   "metadata": {},
   "outputs": [],
   "source": []
  }
 ],
 "metadata": {
  "kernelspec": {
   "display_name": "Python 3 (ipykernel)",
   "language": "python",
   "name": "python3"
  },
  "language_info": {
   "codemirror_mode": {
    "name": "ipython",
    "version": 3
   },
   "file_extension": ".py",
   "mimetype": "text/x-python",
   "name": "python",
   "nbconvert_exporter": "python",
   "pygments_lexer": "ipython3",
   "version": "3.9.12"
  }
 },
 "nbformat": 4,
 "nbformat_minor": 5
}
