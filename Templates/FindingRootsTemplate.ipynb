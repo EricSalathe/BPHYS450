{
 "cells": [
  {
   "cell_type": "code",
   "execution_count": 1,
   "id": "f30a60f5",
   "metadata": {},
   "outputs": [],
   "source": [
    "from numpy import linspace,arange,array, log,exp,sin,cos,sqrt, pi,e, zeros, ones\n",
    "import numpy as np\n",
    "from scipy.optimize import newton, brentq"
   ]
  },
  {
   "cell_type": "markdown",
   "id": "3db0022a",
   "metadata": {},
   "source": [
    "SciPy is a collection of mathematical algorithms and convenience functions built on the NumPy extension of Python.\n",
    "https://docs.scipy.org/doc/scipy/tutorial/general.html\n",
    "\n",
    "Documentation:\n",
    " Brentq\n",
    " https://docs.scipy.org/doc/scipy/reference/generated/scipy.optimize.brentq.html\n",
    " \n",
    " Newton\n",
    " https://docs.scipy.org/doc/scipy/reference/generated/scipy.optimize.newton.html\n",
    " \n",
    " or help(newton) "
   ]
  },
  {
   "cell_type": "code",
   "execution_count": 2,
   "id": "02a327df",
   "metadata": {},
   "outputs": [],
   "source": [
    "# Define a few functions to try\n",
    "\n",
    "def cubic(x):\n",
    "    y = \n",
    "    return y\n",
    "    \n"
   ]
  },
  {
   "cell_type": "markdown",
   "id": "63e1e6df",
   "metadata": {},
   "source": [
    "A home made Bisect code. Bisect and Brent1 are similar methods. Both require 2 initial guesses that bracket the root. That is, we enter $x_1$ and $x_2$ such that the root, $x_r$, is between $x_1$ and $x_2$. Assuming $x_1<x_2$, then $x_1 \\le x_r \\le x_2$. \n",
    "\n",
    "If $x_1$ and $x_2$ bracket the root of $f(x)$, then $f(x_1)$ and $f(x_2)$ have opposite sign, or $f(x_1) \\times f(x_2)<0$"
   ]
  },
  {
   "cell_type": "code",
   "execution_count": 3,
   "id": "e384d00f",
   "metadata": {},
   "outputs": [],
   "source": [
    "def bisect(f,x1,x2):\n",
    "    \"\"\"\n",
    "    Solve a function using bisection\n",
    "\n",
    "    Parameters\n",
    "    ----------\n",
    "    f : functions to find root\n",
    "    x1,x2: Values to bracket root\n",
    "\n",
    "    Returns\n",
    "    -------\n",
    "    x : root\n",
    "    \n",
    "    As written, the code will just cycle imax times and return\n",
    "    Ideally, add code to check if the solution is found earlier\n",
    "\n",
    "    \"\"\"\n",
    "    from numpy import abs\n",
    "    \n",
    "    imax = # number of attempts to find a root\n",
    "    tol = # tolerance for ending serach\n",
    "    \n",
    "    # Optional:\n",
    "    # Add logic here to check if root is really bracketed by x1,x2\n",
    "    # Add logic here to check if x1 or x2 is actually a root of f(x)\n",
    "\n",
    "    # loop over number of attemps\n",
    "    for i in range(imax):\n",
    "        \n",
    "        # compute new estimate\n",
    "        x = \n",
    "        \n",
    "        # [optional] Add logic here to check if x is the root (or within some tolerance)\n",
    "\n",
    "        # Add logic block to replace either x1 or x2 with x \n",
    "        #  so new x1 and x2 bracket the root\n",
    "    \n",
    "    # Compute a final estimate and return\n",
    "    x = (x1+x2)/2 # final estimate\n",
    "    \n",
    "    return x\n"
   ]
  },
  {
   "cell_type": "markdown",
   "id": "85266266",
   "metadata": {},
   "source": [
    "Plot the cubic function"
   ]
  },
  {
   "cell_type": "code",
   "execution_count": 7,
   "id": "35048719",
   "metadata": {},
   "outputs": [
    {
     "data": {
      "text/plain": [
       "Text(0.5, 1.0, 'y = (x+1) * (x-3) * (x+10) - 2')"
      ]
     },
     "execution_count": 7,
     "metadata": {},
     "output_type": "execute_result"
    },
    {
     "data": {
      "image/png": "[encoded data removed]",
      "text/plain": [
       "<Figure size 432x288 with 1 Axes>"
      ]
     },
     "metadata": {
      "needs_background": "light"
     },
     "output_type": "display_data"
    }
   ],
   "source": [
    "from matplotlib.pyplot import plot, title\n"
   ]
  },
  {
   "cell_type": "code",
   "execution_count": 8,
   "id": "1cda5fe2",
   "metadata": {},
   "outputs": [
    {
     "name": "stdout",
     "output_type": "stream",
     "text": [
      "Bisection\n",
      "Solution:  3.0\n",
      "Error:  0.0\n",
      "\n",
      "Brentq\n",
      "Solution:  3.0\n",
      "Error:  0.0\n",
      "\n",
      "Newton\n",
      "Solution:  3.0000000000000004\n",
      "Error:  1.7763568394002505e-15\n"
     ]
    }
   ],
   "source": [
    "# Solve the quadratic 3 ways\n",
    "\n",
    "x = bisect(quad,0, 100)\n",
    "\n",
    "print(\"Bisection\")\n",
    "print(\"Solution: \", x)\n",
    "print(\"Error: \", quad(x))\n",
    "\n",
    "x = brentq(quad,0,100)\n",
    "\n",
    "print(\"\\nBrentq\") # \\n for newline\n",
    "print(\"Solution: \", x)\n",
    "print(\"Error: \", quad(x))\n",
    "\n",
    "\n",
    "x = newton(quad,5)\n",
    "\n",
    "print(\"\\nNewton\")\n",
    "print(\"Solution: \", x)\n",
    "print(\"Error: \", quad(x))"
   ]
  },
  {
   "cell_type": "code",
   "execution_count": 5,
   "id": "9a01d571",
   "metadata": {},
   "outputs": [
    {
     "name": "stdout",
     "output_type": "stream",
     "text": [
      "\n",
      "\n",
      "Timing:\n",
      "newton method takes  0.7519721984863281 msec\n",
      "brenq method takes  0.08702278137207031 msec\n",
      "bisect method takes  0.16999244689941406 msec\n"
     ]
    }
   ],
   "source": [
    "# Compare how fast\n",
    "\n",
    "print('\\n\\nTiming:')\n",
    "import time\n",
    "start=time.time()\n",
    "newton(cubic,-100)\n",
    "end=time.time()\n",
    "print ('newton method takes ',(end-start)*1e3, 'msec')\n",
    "\n",
    "start=time.time()\n",
    "brentq(cubic,-100,-5)\n",
    "end=time.time()\n",
    "print ('brenq method takes ',(end-start)*1e3, 'msec')\n",
    "\n",
    "start=time.time()\n",
    "bisect(cubic,-100,-5)\n",
    "end=time.time()\n",
    "print ('bisect method takes ',(end-start)*1e3, 'msec')\n"
   ]
  },
  {
   "cell_type": "code",
   "execution_count": null,
   "id": "28d125d5",
   "metadata": {},
   "outputs": [],
   "source": []
  }
 ],
 "metadata": {
  "kernelspec": {
   "display_name": "Python 3 (ipykernel)",
   "language": "python",
   "name": "python3"
  },
  "language_info": {
   "codemirror_mode": {
    "name": "ipython",
    "version": 3
   },
   "file_extension": ".py",
   "mimetype": "text/x-python",
   "name": "python",
   "nbconvert_exporter": "python",
   "pygments_lexer": "ipython3",
   "version": "3.9.15"
  }
 },
 "nbformat": 4,
 "nbformat_minor": 5
}
