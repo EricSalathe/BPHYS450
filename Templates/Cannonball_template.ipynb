{
 "cells": [
  {
   "cell_type": "markdown",
   "metadata": {},
   "source": [
    "## Cannonball!"
   ]
  },
  {
   "cell_type": "markdown",
   "metadata": {},
   "source": [
    "We will model a cannonball shot from a cannon on level ground. In the following the notation uses $\\dot x$ to indicate time derivative. So $v_x = \\dot x$, $v_y = \\dot y$, $a_x = \\ddot x$, $a_y = \\ddot y$.\n",
    "<br><br>\n",
    "The air resistance on a moving sphere of mass $m$ and radius $R$ in air of density $\\rho$ is a force in the opposite direction to the motion with magnitude\n",
    "$$F_d=\\frac{\\pi R^2 \\rho C}{2m} |v|^2$$\n",
    "Where $C$ is the drag coefficient. We can write this in vector form as\n",
    "$$ \\vec F_d = -\\frac{\\pi R^2 \\rho C}{2m} |v| \\vec v$$\n",
    "Letting $\\vec v = \\hat i \\dot x + \\hat j \\dot y$ this becomes\n",
    "$$ \\vec F_d = -\\frac{\\pi R^2 \\rho C}{2m} \\sqrt{\\dot y^2 + \\dot y^2}\\vec v$$\n",
    "where R is the sphere’s radius, ρ is the density of air, v is the velocity, and C is the so-calledcoefficient of drag (a property of the shape of the moving object, in this case a sphere).\n",
    "<br><br>\n",
    "Using the above Newton’s second law, $\\vec F = m \\vec a$, the equations of motion for the position $(x, y)$ of the cannonball can be written as\n",
    "$$\\ddot x = -\\frac{\\pi R^2 \\rho C}{2m}\\dot x \\sqrt{\\dot x^2 + \\dot y^2}$$\n",
    "$$\\ddot y = -g-\\frac{\\pi R^2 \\rho C}{2m}\\dot x \\sqrt{\\dot y^2 + \\dot y^2}$$\n",
    "Change these two second-order equations into four first-order equations as we did in class, then write a program that solves the equations for a cannonball of mass 1 kg and radius 0.08 m, shot at 30° to the horizontal ($\\pi/6$ radians) with initial velocity $100\\ m/s$. Assume the cannonball leaves the cannon at the origin ($x_0=y_0=0$). The density of air is $\\rho = 1.22\\ kg\\ m^{−3}$ and the coefficient of drag for a sphere is C = 0.47. Make a plot of the trajectory of the cannonball (i.e., a graph of y as a function of x).\n",
    "\n",
    "In python, start with the lotke program below from the previous assignment. You will have four variables, x, xdot, y, ydot. The rate function will return an array with the four derivatives of each of these. \n",
    "\n",
    "The initial condition array will contain the four initial values -- specify xdot0 and ydot0 in terms of the scalar velocity and angle. \n",
    "http://faculty.washington.edu/salathe/BPHYS450/PYTHON/lotka.py"
   ]
  },
  {
   "cell_type": "code",
   "execution_count": null,
   "metadata": {},
   "outputs": [],
   "source": [
    "from scipy.integrate import odeint\n",
    "from numpy import linspace,array, pi, sin, cos\n"
   ]
  },
  {
   "cell_type": "markdown",
   "metadata": {},
   "source": [
    "Define some parameters"
   ]
  },
  {
   "cell_type": "code",
   "execution_count": null,
   "metadata": {},
   "outputs": [],
   "source": [
    "R = 0.08\n",
    "m = 1\n",
    "rho = 1.22\n",
    "C = 0.47\n",
    "g = 9.81"
   ]
  },
  {
   "cell_type": "markdown",
   "metadata": {},
   "source": [
    "Define the differential equation. Be careful of the order you unpack V--this is the same order you pack rate and V0 below."
   ]
  },
  {
   "cell_type": "code",
   "execution_count": null,
   "metadata": {},
   "outputs": [],
   "source": [
    "def cannonball(t, V):\n",
    "# unpack x xdot y ydot from V\n",
    "        \n",
    "# compute dx dxdot dy dydot\n",
    "    dx = \n",
    "    dxdot = \n",
    "    \n",
    "    dy = ydot\n",
    "    dydot = \n",
    "\n",
    "        \n",
    "    # pack rates into numpy arrray\n",
    "    rate = array()\n",
    "    return rate"
   ]
  },
  {
   "cell_type": "markdown",
   "metadata": {},
   "source": [
    "Run for 7 seconds with initial speed of 100 m/s at a 30° angle ($\\pi/6$ rad)."
   ]
  },
  {
   "cell_type": "code",
   "execution_count": null,
   "metadata": {},
   "outputs": [],
   "source": [
    "# Set i.c. on x, y, xdot, ydot\n",
    "x0 = \n",
    "y0 =\n",
    "\n",
    "v0 = # initial scalar velocity\n",
    "angle = # initial angle in radians\n",
    "\n",
    "xdot0= # from v0 and angle\n",
    "ydot0= # from v0 and angle\n",
    "\n",
    "# Pack into I.C. array\n",
    "V0 = array()\n",
    "\n",
    "# Form Time array T for output solution. 500 points covering 7 seconds\n",
    "T = \n",
    "\n",
    "# solve the ODE\n",
    "X = odeint(cannonball, V0, T, tfirst=True)\n",
    "\n",
    "# Plot the trajextory\n",
    "from matplotlib.pyplot import plot,xlabel,ylabel,legend,show, figure, subplot\n",
    "x=\n",
    "y=\n",
    "plot(x,y)\n",
    "xlabel('Horizontal Displacement (m)')\n",
    "ylabel('Vertical Displacement (m)')\n",
    "\n"
   ]
  }
 ],
 "metadata": {
  "kernelspec": {
   "display_name": "Python 3 (ipykernel)",
   "language": "python",
   "name": "python3"
  },
  "language_info": {
   "codemirror_mode": {
    "name": "ipython",
    "version": 3
   },
   "file_extension": ".py",
   "mimetype": "text/x-python",
   "name": "python",
   "nbconvert_exporter": "python",
   "pygments_lexer": "ipython3",
   "version": "3.9.15"
  }
 },
 "nbformat": 4,
 "nbformat_minor": 4
}
