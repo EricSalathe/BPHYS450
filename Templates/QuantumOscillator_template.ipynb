{
 "cells": [
  {
   "cell_type": "markdown",
   "metadata": {
    "id": "wo1kTdK3MRrq"
   },
   "source": [
    "Our goal is to solve the one-dimensional, time-independent Schrodinger equation wave function for an electron in a harmonic (i.e., quadratic) potential \n",
    "\n",
    "\\begin{equation}\n",
    "V\\left(x\\right)=V_0\\left(\\frac{x^2}{a^2}\\right)\\\n",
    "\\end{equation}\n",
    "where $V_0= 50$ eV  and $a=1\\times 10^{11}$ m are constants. Use $\\hbar = 197\\times10^{-9} eV/c$ and $m = 0.511\\times10^6 eV/c^2$ for electron mass.\n",
    "\n",
    "The 1-D schrodinger equation is \n",
    "\\begin{equation}\n",
    "-\\frac{\\hbar}{2m}\\frac{d^2 \\psi}{d x^2} + V(x)\\psi(x)=E\\psi(x)\n",
    "\\end{equation}\n",
    "\n",
    "We will use units of energy in eV, so  $\\hbar$ becomes $\\hbar c $and $m$ becomes $mc^2$ in the Schrodinger Eqn.\n",
    "\n",
    "The Schrodinger equation has solutions only for discreet values of E, which are unknown. So, to solve this numerically, you will guess at the energy E for the ground state. Then solve the equation by starting at the left boundary (x = -∞) and check if the right boundary value is correct. Then adjust the value of E until you can match the right boundary (x = +∞).\n",
    "\n",
    "Note that in theory the wavefunction goes all the way out to x = ±∞, but you can get good answers by using a large but finite interval. Try using x = −10a to +10a, with the wavefunction ψ = 0 at both boundaries. (In effect, you are putting the harmonic oscillator in a 20a wide box with impenetrable walls.) The wavefunction is real everywhere, so you don’t need to use complex variables, and you can use evenly spaced points in x for the solution (use linspace to create 100 points from -10a to +10a). The first derivative of the wave function is arbitrary since the solutions are equivalent relative to a normalizing factor, so set it to 1.\n",
    "\n"
   ]
  },
  {
   "cell_type": "markdown",
   "metadata": {
    "id": "2L9BICcMRltv"
   },
   "source": [
    "Load modules"
   ]
  },
  {
   "cell_type": "code",
   "execution_count": 1,
   "metadata": {
    "executionInfo": {
     "elapsed": 4,
     "status": "ok",
     "timestamp": 1643843286656,
     "user": {
      "displayName": "Carolina Li",
      "photoUrl": "https://lh3.googleusercontent.com/a/default-user=s64",
      "userId": "09962341498662741976"
     },
     "user_tz": 480
    },
    "id": "KZ6TiTvLMQ95"
   },
   "outputs": [],
   "source": [
    "from scipy.integrate import odeint\n",
    "from numpy import linspace,array,zeros,log,exp,sin,cos,sqrt,pi,e\n",
    "from matplotlib.pyplot import plot,xlabel,ylabel,legend,show, figure, subplot, xlim"
   ]
  },
  {
   "cell_type": "markdown",
   "metadata": {
    "id": "xvu_rEWpOpE0"
   },
   "source": [
    "Set parameters for the problem"
   ]
  },
  {
   "cell_type": "code",
   "execution_count": 2,
   "metadata": {
    "executionInfo": {
     "elapsed": 4,
     "status": "ok",
     "timestamp": 1643843286657,
     "user": {
      "displayName": "Carolina Li",
      "photoUrl": "https://lh3.googleusercontent.com/a/default-user=s64",
      "userId": "09962341498662741976"
     },
     "user_tz": 480
    },
    "id": "NuNbmA_OOkd8"
   },
   "outputs": [],
   "source": [
    "V0= 50\n",
    "a=1.e-11 # m\n",
    "hbar=197*1e-9 # hbar-c\n",
    "m=0.511*1e6 # eV/c2"
   ]
  },
  {
   "cell_type": "markdown",
   "metadata": {
    "id": "NjHhxOF-PvTu"
   },
   "source": [
    "1) Write down the time-independent Schrodinger equation for this problem and convert it from a second-order equation to two first-order ones (ie for $\\psi$ and $\\psi\\prime$). Follow the lotka example in python to write a two-variable rate function for dpsi and dpsi_p.\n"
   ]
  },
  {
   "cell_type": "markdown",
   "metadata": {
    "id": "AUWZsb8POj3N"
   },
   "source": [
    "Create our diff eq. Note the added arguement, E, in the function. We will need to pass this to schrodinger when we use ODEINT, see below."
   ]
  },
  {
   "cell_type": "code",
   "execution_count": 3,
   "metadata": {
    "executionInfo": {
     "elapsed": 4,
     "status": "ok",
     "timestamp": 1643843286657,
     "user": {
      "displayName": "Carolina Li",
      "photoUrl": "https://lh3.googleusercontent.com/a/default-user=s64",
      "userId": "09962341498662741976"
     },
     "user_tz": 480
    },
    "id": "1cTaWlsNNrqX"
   },
   "outputs": [],
   "source": [
    "def schrodinger(x, V, E):\n",
    "    # unpack\n",
    "    psi = \n",
    "    psi_p = \n",
    "    \n",
    "    # compute rates\n",
    "    Pot = \n",
    "    dpsi_p = \n",
    "    dpsi = \n",
    "            \n",
    "        # pack rates into column vector\n",
    "    rate = array([dpsi, dpsi_p])\n",
    "    return rate"
   ]
  },
  {
   "cell_type": "markdown",
   "metadata": {
    "id": "3JNku9mC93qm"
   },
   "source": [
    "Set the initial values of $\\psi(x=-10a)=0$ and $\\psi'(x=-10a)=1$ (the first derivative is arbitrary since the solutions are equivalent to a normalization factor)\n"
   ]
  },
  {
   "cell_type": "code",
   "execution_count": 4,
   "metadata": {
    "executionInfo": {
     "elapsed": 2,
     "status": "ok",
     "timestamp": 1643843288688,
     "user": {
      "displayName": "Carolina Li",
      "photoUrl": "https://lh3.googleusercontent.com/a/default-user=s64",
      "userId": "09962341498662741976"
     },
     "user_tz": 480
    },
    "id": "1m8zjsFg99S-"
   },
   "outputs": [],
   "source": [
    "psi0 = \n",
    "dpsi0 = \n",
    "Y0 = array([psi0, dpsi0]) # pack the i.c. into array\n",
    "\n",
    "\n",
    "# set the space interval for solving\n",
    "Xstart= -10*a\n",
    "Xend = 10*a \n",
    "\n",
    "# Form space array with 100 points\n",
    "\n",
    "X = "
   ]
  },
  {
   "cell_type": "markdown",
   "metadata": {
    "id": "Th_Asb-XQMLz"
   },
   "source": [
    "2) Use odeing to solve a test case for  E = 413 eV. \n",
    "\n",
    "Plot over the range -5a < x < 5a \n",
    "\n",
    "**Note** the added arguement in ODEINT to pass the value of E to schrodinger.\n"
   ]
  },
  {
   "cell_type": "code",
   "execution_count": 5,
   "metadata": {
    "colab": {
     "base_uri": "https://localhost:8080/",
     "height": 306
    },
    "executionInfo": {
     "elapsed": 307,
     "status": "ok",
     "timestamp": 1643843290033,
     "user": {
      "displayName": "Carolina Li",
      "photoUrl": "https://lh3.googleusercontent.com/a/default-user=s64",
      "userId": "09962341498662741976"
     },
     "user_tz": 480
    },
    "id": "fdrVXYjOOhoQ",
    "outputId": "656482b1-eace-436d-a422-bbfac4bb5e1e"
   },
   "outputs": [
    {
     "data": {
      "text/plain": [
       "(-4.9999999999999995e-11, 4.9999999999999995e-11)"
      ]
     },
     "execution_count": 5,
     "metadata": {},
     "output_type": "execute_result"
    },
    {
     "data": {
      "image/png": "[encoded data removed]",
      "text/plain": [
       "<Figure size 432x288 with 1 Axes>"
      ]
     },
     "metadata": {
      "needs_background": "light"
     },
     "output_type": "display_data"
    }
   ],
   "source": [
    "E = 3000\n",
    "solution = odeint(schrodinger, Y0, X, args=(E,), tfirst=True)\n",
    "# unpack\n",
    "psi = solution[:,0]\n",
    "dpsi = solution[:,1]\n",
    "\n",
    "plot(X[30:-30],psi[30:-30])\n",
    "xlim(-5*a,5*a)"
   ]
  },
  {
   "cell_type": "code",
   "execution_count": null,
   "metadata": {
    "id": "2fi5BjdmASOo"
   },
   "outputs": [],
   "source": []
  },
  {
   "cell_type": "markdown",
   "metadata": {
    "id": "JrR4Z8WKVyYn"
   },
   "source": [
    "4) Now get fancy and create a function of E that returns the left boundary value, $\\psi(x=+10a)$. Use Newton to solve for E given initial guesses based on an infinite well of width $L=7a$:  \n",
    "\\begin{equation}\n",
    "E_n = \\frac{\\hbar^2 \\pi^2}{2 m L^2}n^2 \\hspace{1em} \\text{ for } n = 1, 2, 3.\n",
    "\\end{equation} "
   ]
  },
  {
   "cell_type": "code",
   "execution_count": null,
   "metadata": {
    "id": "58UOM1fdW8Ja"
   },
   "outputs": [],
   "source": [
    "def PsiEnd(E):\n",
    "  ...\n",
    "  return psi[-1]\n",
    "\n",
    "Elevel = newton(...)"
   ]
  }
 ],
 "metadata": {
  "colab": {
   "collapsed_sections": [],
   "name": "QuantumOscillator template.ipynb",
   "provenance": []
  },
  "kernelspec": {
   "display_name": "Python 3 (ipykernel)",
   "language": "python",
   "name": "python3"
  },
  "language_info": {
   "codemirror_mode": {
    "name": "ipython",
    "version": 3
   },
   "file_extension": ".py",
   "mimetype": "text/x-python",
   "name": "python",
   "nbconvert_exporter": "python",
   "pygments_lexer": "ipython3",
   "version": "3.9.7"
  }
 },
 "nbformat": 4,
 "nbformat_minor": 4
}
