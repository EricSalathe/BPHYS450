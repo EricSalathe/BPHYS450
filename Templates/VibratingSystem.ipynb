{
  "nbformat": 4,
  "nbformat_minor": 0,
  "metadata": {
    "colab": {
      "provenance": []
    },
    "kernelspec": {
      "name": "python3",
      "display_name": "Python 3"
    },
    "language_info": {
      "name": "python"
    }
  },
  "cells": [
    {
      "cell_type": "code",
      "execution_count": null,
      "metadata": {
        "id": "9SJThhh8SGfj"
      },
      "outputs": [],
      "source": [
        "from numpy.linalg import eig, inv, det\n",
        "from numpy import shape, array, matmul, eye"
      ]
    },
    {
      "cell_type": "markdown",
      "source": [
        "1) Kinematics Matrix"
      ],
      "metadata": {
        "id": "9kjzkt7ca1C5"
      }
    },
    {
      "cell_type": "code",
      "source": [
        "A = array([[1,0,0,0],[-1,1,0,0],[0,-1,1,0],[0,0,-1,1],[0,0,0,1]])\n",
        "print(A)\n",
        "print('Shape of matrix A:', shape(A))"
      ],
      "metadata": {
        "id": "pu59e6dfa3pS",
        "colab": {
          "base_uri": "https://localhost:8080/"
        },
        "outputId": "60303dec-321e-4811-c84f-43df5246946e"
      },
      "execution_count": null,
      "outputs": [
        {
          "output_type": "stream",
          "name": "stdout",
          "text": [
            "[[ 1  0  0  0]\n",
            " [-1  1  0  0]\n",
            " [ 0 -1  1  0]\n",
            " [ 0  0 -1  1]\n",
            " [ 0  0  0  1]]\n",
            "Shape of matrix A: (5, 4)\n"
          ]
        }
      ]
    },
    {
      "cell_type": "markdown",
      "source": [
        "2) Constitutive Matrix"
      ],
      "metadata": {
        "id": "PatImBXQa7Mn"
      }
    },
    {
      "cell_type": "code",
      "source": [
        "C = eye(5)\n",
        "print(C)\n",
        "print('Shape of matrix C:', shape(C))"
      ],
      "metadata": {
        "id": "2qJ3RyVBbYgb",
        "colab": {
          "base_uri": "https://localhost:8080/"
        },
        "outputId": "f792e916-df30-427d-f154-41c7b944016f"
      },
      "execution_count": null,
      "outputs": [
        {
          "output_type": "stream",
          "name": "stdout",
          "text": [
            "[[1. 0. 0. 0. 0.]\n",
            " [0. 1. 0. 0. 0.]\n",
            " [0. 0. 1. 0. 0.]\n",
            " [0. 0. 0. 1. 0.]\n",
            " [0. 0. 0. 0. 1.]]\n",
            "Shape of matrix C: (5, 5)\n"
          ]
        }
      ]
    },
    {
      "cell_type": "markdown",
      "source": [
        "3) Static Matrix: (Either enter elements or use a matrix operation on an earlier matrix)"
      ],
      "metadata": {
        "id": "Gvmg3ciybhEn"
      }
    },
    {
      "cell_type": "code",
      "source": [
        "B = -A.T\n",
        "print(B)\n",
        "print('Shape of matrix:', shape(B))"
      ],
      "metadata": {
        "id": "eTI1MQVUbqJZ",
        "colab": {
          "base_uri": "https://localhost:8080/"
        },
        "outputId": "24660b24-dbe2-47db-a7eb-e3bba8631659"
      },
      "execution_count": null,
      "outputs": [
        {
          "output_type": "stream",
          "name": "stdout",
          "text": [
            "[[-1  1  0  0  0]\n",
            " [ 0 -1  1  0  0]\n",
            " [ 0  0 -1  1  0]\n",
            " [ 0  0  0 -1 -1]]\n",
            "Shape of matrix: (4, 5)\n"
          ]
        }
      ]
    },
    {
      "cell_type": "markdown",
      "source": [
        "4) Combined Matrix--Use matrix multiplication to find the combined matrix for the equation $\\vec{f}=K\\vec{x}$"
      ],
      "metadata": {
        "id": "j1XS0MVXb-qL"
      }
    },
    {
      "cell_type": "code",
      "source": [
        "K = -1*matmul(B,matmul(C,A))\n",
        "print(K)\n",
        "print('Shape of matrix:', shape(K))"
      ],
      "metadata": {
        "id": "zoQ1ro57bgvQ",
        "colab": {
          "base_uri": "https://localhost:8080/"
        },
        "outputId": "0b513d08-be85-4bbc-c0da-5739f9c83edd"
      },
      "execution_count": null,
      "outputs": [
        {
          "output_type": "stream",
          "name": "stdout",
          "text": [
            "[[ 2. -1. -0. -0.]\n",
            " [-1.  2. -1. -0.]\n",
            " [-0. -1.  2. -1.]\n",
            " [-0. -0. -1.  2.]]\n",
            "Shape of matrix: (4, 4)\n"
          ]
        }
      ]
    },
    {
      "cell_type": "markdown",
      "source": [
        "5) Dynamics: Get the eigenvalus and eigenvectors of the K matrix. \n",
        "\n",
        "First try a 2-mass system and compare to the result at \n",
        "https://lpsa.swarthmore.edu/MtrxVibe/Anims/VibrationAnimations.html   "
      ],
      "metadata": {
        "id": "ssz2FUDiSfYG"
      }
    },
    {
      "cell_type": "code",
      "source": [
        "# 2-mass system for comparison\n",
        "\n",
        "K2 = array([[2,-1],[-1,2]])\n",
        "w, U = eig(K2)\n",
        "\n",
        "print(\"Eigen values w=\",w)\n",
        "print(\"Eigen vectors:\")\n",
        "print(\"u1 = \", U[:,0])\n",
        "print(\"u2 = \", U[:,1])"
      ],
      "metadata": {
        "id": "jUGZz5lGdfLW",
        "colab": {
          "base_uri": "https://localhost:8080/"
        },
        "outputId": "fa412bfd-227c-4994-e09f-bcb760ee872b"
      },
      "execution_count": null,
      "outputs": [
        {
          "output_type": "stream",
          "name": "stdout",
          "text": [
            "Eigen values w= [3. 1.]\n",
            "Eigen vectors:\n",
            "u1 =  [ 0.70710678 -0.70710678]\n",
            "u2 =  [0.70710678 0.70710678]\n"
          ]
        }
      ]
    },
    {
      "cell_type": "markdown",
      "source": [
        "Now find results for your 4-mass system:"
      ],
      "metadata": {
        "id": "Md8r2G1-eBgQ"
      }
    },
    {
      "cell_type": "code",
      "source": [
        "w, U = eig(K)\n",
        "\n",
        "print(\"Eigen values w=\",w)\n",
        "print(\"Eigen vectors:\")\n",
        "print(\"u1 = \", U[:,0])\n",
        "print(\"u2 = \", U[:,1])"
      ],
      "metadata": {
        "id": "EbFLxS9TSlXr",
        "colab": {
          "base_uri": "https://localhost:8080/"
        },
        "outputId": "9c400dc0-250f-476e-e2c3-85c130d98982"
      },
      "execution_count": null,
      "outputs": [
        {
          "output_type": "stream",
          "name": "stdout",
          "text": [
            "Eigen values w= [3.61803399 2.61803399 0.38196601 1.38196601]\n",
            "Eigen vectors:\n",
            "u1 =  [-0.37174803  0.60150096 -0.60150096  0.37174803]\n",
            "u2 =  [-0.60150096  0.37174803  0.37174803 -0.60150096]\n"
          ]
        }
      ]
    },
    {
      "cell_type": "code",
      "source": [
        "print(matmul(K,U[:,0])/w[0])"
      ],
      "metadata": {
        "id": "zjeP_-MwTdOp",
        "colab": {
          "base_uri": "https://localhost:8080/"
        },
        "outputId": "8dd65e6a-2d07-415a-ccd8-0163e3fad806"
      },
      "execution_count": null,
      "outputs": [
        {
          "output_type": "stream",
          "name": "stdout",
          "text": [
            "[-0.37174803  0.60150096 -0.60150096  0.37174803]\n"
          ]
        }
      ]
    },
    {
      "cell_type": "code",
      "source": [
        "help(eig)"
      ],
      "metadata": {
        "colab": {
          "base_uri": "https://localhost:8080/"
        },
        "id": "tyhoXGcmYd3F",
        "outputId": "2e4b2882-34d0-436f-fa45-70448a6e889e"
      },
      "execution_count": null,
      "outputs": [
        {
          "output_type": "stream",
          "name": "stdout",
          "text": [
            "Help on function eig in module numpy.linalg:\n",
            "\n",
            "eig(a)\n",
            "    Compute the eigenvalues and right eigenvectors of a square array.\n",
            "    \n",
            "    Parameters\n",
            "    ----------\n",
            "    a : (..., M, M) array\n",
            "        Matrices for which the eigenvalues and right eigenvectors will\n",
            "        be computed\n",
            "    \n",
            "    Returns\n",
            "    -------\n",
            "    w : (..., M) array\n",
            "        The eigenvalues, each repeated according to its multiplicity.\n",
            "        The eigenvalues are not necessarily ordered. The resulting\n",
            "        array will be of complex type, unless the imaginary part is\n",
            "        zero in which case it will be cast to a real type. When `a`\n",
            "        is real the resulting eigenvalues will be real (0 imaginary\n",
            "        part) or occur in conjugate pairs\n",
            "    \n",
            "    v : (..., M, M) array\n",
            "        The normalized (unit \"length\") eigenvectors, such that the\n",
            "        column ``v[:,i]`` is the eigenvector corresponding to the\n",
            "        eigenvalue ``w[i]``.\n",
            "    \n",
            "    Raises\n",
            "    ------\n",
            "    LinAlgError\n",
            "        If the eigenvalue computation does not converge.\n",
            "    \n",
            "    See Also\n",
            "    --------\n",
            "    eigvals : eigenvalues of a non-symmetric array.\n",
            "    eigh : eigenvalues and eigenvectors of a real symmetric or complex\n",
            "           Hermitian (conjugate symmetric) array.\n",
            "    eigvalsh : eigenvalues of a real symmetric or complex Hermitian\n",
            "               (conjugate symmetric) array.\n",
            "    scipy.linalg.eig : Similar function in SciPy that also solves the\n",
            "                       generalized eigenvalue problem.\n",
            "    scipy.linalg.schur : Best choice for unitary and other non-Hermitian\n",
            "                         normal matrices.\n",
            "    \n",
            "    Notes\n",
            "    -----\n",
            "    \n",
            "    .. versionadded:: 1.8.0\n",
            "    \n",
            "    Broadcasting rules apply, see the `numpy.linalg` documentation for\n",
            "    details.\n",
            "    \n",
            "    This is implemented using the ``_geev`` LAPACK routines which compute\n",
            "    the eigenvalues and eigenvectors of general square arrays.\n",
            "    \n",
            "    The number `w` is an eigenvalue of `a` if there exists a vector\n",
            "    `v` such that ``a @ v = w * v``. Thus, the arrays `a`, `w`, and\n",
            "    `v` satisfy the equations ``a @ v[:,i] = w[i] * v[:,i]``\n",
            "    for :math:`i \\in \\{0,...,M-1\\}`.\n",
            "    \n",
            "    The array `v` of eigenvectors may not be of maximum rank, that is, some\n",
            "    of the columns may be linearly dependent, although round-off error may\n",
            "    obscure that fact. If the eigenvalues are all different, then theoretically\n",
            "    the eigenvectors are linearly independent and `a` can be diagonalized by\n",
            "    a similarity transformation using `v`, i.e, ``inv(v) @ a @ v`` is diagonal.\n",
            "    \n",
            "    For non-Hermitian normal matrices the SciPy function `scipy.linalg.schur`\n",
            "    is preferred because the matrix `v` is guaranteed to be unitary, which is\n",
            "    not the case when using `eig`. The Schur factorization produces an\n",
            "    upper triangular matrix rather than a diagonal matrix, but for normal\n",
            "    matrices only the diagonal of the upper triangular matrix is needed, the\n",
            "    rest is roundoff error.\n",
            "    \n",
            "    Finally, it is emphasized that `v` consists of the *right* (as in\n",
            "    right-hand side) eigenvectors of `a`.  A vector `y` satisfying\n",
            "    ``y.T @ a = z * y.T`` for some number `z` is called a *left*\n",
            "    eigenvector of `a`, and, in general, the left and right eigenvectors\n",
            "    of a matrix are not necessarily the (perhaps conjugate) transposes\n",
            "    of each other.\n",
            "    \n",
            "    References\n",
            "    ----------\n",
            "    G. Strang, *Linear Algebra and Its Applications*, 2nd Ed., Orlando, FL,\n",
            "    Academic Press, Inc., 1980, Various pp.\n",
            "    \n",
            "    Examples\n",
            "    --------\n",
            "    >>> from numpy import linalg as LA\n",
            "    \n",
            "    (Almost) trivial example with real e-values and e-vectors.\n",
            "    \n",
            "    >>> w, v = LA.eig(np.diag((1, 2, 3)))\n",
            "    >>> w; v\n",
            "    array([1., 2., 3.])\n",
            "    array([[1., 0., 0.],\n",
            "           [0., 1., 0.],\n",
            "           [0., 0., 1.]])\n",
            "    \n",
            "    Real matrix possessing complex e-values and e-vectors; note that the\n",
            "    e-values are complex conjugates of each other.\n",
            "    \n",
            "    >>> w, v = LA.eig(np.array([[1, -1], [1, 1]]))\n",
            "    >>> w; v\n",
            "    array([1.+1.j, 1.-1.j])\n",
            "    array([[0.70710678+0.j        , 0.70710678-0.j        ],\n",
            "           [0.        -0.70710678j, 0.        +0.70710678j]])\n",
            "    \n",
            "    Complex-valued matrix with real e-values (but complex-valued e-vectors);\n",
            "    note that ``a.conj().T == a``, i.e., `a` is Hermitian.\n",
            "    \n",
            "    >>> a = np.array([[1, 1j], [-1j, 1]])\n",
            "    >>> w, v = LA.eig(a)\n",
            "    >>> w; v\n",
            "    array([2.+0.j, 0.+0.j])\n",
            "    array([[ 0.        +0.70710678j,  0.70710678+0.j        ], # may vary\n",
            "           [ 0.70710678+0.j        , -0.        +0.70710678j]])\n",
            "    \n",
            "    Be careful about round-off error!\n",
            "    \n",
            "    >>> a = np.array([[1 + 1e-9, 0], [0, 1 - 1e-9]])\n",
            "    >>> # Theor. e-values are 1 +/- 1e-9\n",
            "    >>> w, v = LA.eig(a)\n",
            "    >>> w; v\n",
            "    array([1., 1.])\n",
            "    array([[1., 0.],\n",
            "           [0., 1.]])\n",
            "\n"
          ]
        }
      ]
    },
    {
      "cell_type": "code",
      "source": [],
      "metadata": {
        "id": "AGE13Qg0YkXt"
      },
      "execution_count": null,
      "outputs": []
    }
  ]
}