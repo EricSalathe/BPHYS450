{
 "cells": [
  {
   "cell_type": "markdown",
   "metadata": {},
   "source": [
    "## Oscillating Growth\n",
    "\n",
    "Use this template to solve the oscillating growth problem using both your own euler method and scipy odeint.\n",
    "\n",
    "$\\frac{dy}{dx}=y[1-sin(\\omega t)]$"
   ]
  },
  {
   "cell_type": "markdown",
   "metadata": {
    "id": "QSyNp3UOiQ2e"
   },
   "source": [
    "Import modules"
   ]
  },
  {
   "cell_type": "code",
   "execution_count": null,
   "metadata": {
    "executionInfo": {
     "elapsed": 199,
     "status": "ok",
     "timestamp": 1642714064920,
     "user": {
      "displayName": "Eric P. Salathe",
      "photoUrl": "https://lh3.googleusercontent.com/a-/AOh14GglgPR1DRkbgcLfd3WBQnn1V5TCvs-9B2amF2CQ=s64",
      "userId": "05199657044909295070"
     },
     "user_tz": 480
    },
    "id": "Ul76d0ZZhR1C"
   },
   "outputs": [],
   "source": [
    "from numpy import zeros_like,  sin, pi, linspace, exp, cos\n",
    "import numpy as np\n",
    "\n",
    "from scipy.integrate import odeint\n",
    "\n",
    "from matplotlib.pyplot import plot,xlabel,ylabel,legend,show\n"
   ]
  },
  {
   "cell_type": "markdown",
   "metadata": {
    "id": "SV9y_XT3iVu_"
   },
   "source": [
    "Euler's method to solve ODE.\n",
    "\n",
    " First create a python function to apply Euler's method to any function by looping over independent variable to fill in the dependent variable. Think of Euler in the form:\n",
    "\n",
    "$\n",
    "y\\left(t\\right)=y\\left(t-\\Delta t\\right)\\:+\\:y^{\\prime}\\left(t-\\Delta t\\right)  \\Delta t\\\\ =y\\left(t-\\Delta t\\right)+f\\left[t-\\Delta t,y\\left(t-\\Delta t\\right)\\right]\\Delta t\n",
    "$\n",
    "\n",
    "Or, if we create a sequence of values for t and y, \n",
    "$t_i = t_0 + i\\Delta t, y_i = y(t_i)$\n",
    "we can write this as:\n",
    "\n",
    "$\n",
    "y_i=y_{i-1} +f(t_{i-1},y_{i-1})\\Delta t\n",
    "$\n",
    "\n",
    "As inputs, take the name of the function, the initial value, and the array of times to compute the solution.\n",
    "See the template below, fill in the blanks. Note that the inputs mimic odeint."
   ]
  },
  {
   "cell_type": "code",
   "execution_count": null,
   "metadata": {
    "executionInfo": {
     "elapsed": 163,
     "status": "ok",
     "timestamp": 1642714065081,
     "user": {
      "displayName": "Eric P. Salathe",
      "photoUrl": "https://lh3.googleusercontent.com/a-/AOh14GglgPR1DRkbgcLfd3WBQnn1V5TCvs-9B2amF2CQ=s64",
      "userId": "05199657044909295070"
     },
     "user_tz": 480
    },
    "id": "7NFOpo_ThatH"
   },
   "outputs": [],
   "source": [
    "def euler(f,y0,t):\n",
    "\n",
    "    # create array to hold the solution and fill with zeros\n",
    "    # hint: use len(t) to find number of values\n",
    "\n",
    "    y = \n",
    "\n",
    "    # set i.c. ie fill the first value of soln array, y\n",
    "    y[0] = y0\n",
    "\n",
    "    # use for loop to fill in the rest of the solution array\n",
    "\n",
    "    return y\n"
   ]
  },
  {
   "cell_type": "markdown",
   "metadata": {
    "id": "dhtMUfONiaK5"
   },
   "source": [
    "Our oscillating growth function. Assume the value of $\\omega$ is specified outside the function."
   ]
  },
  {
   "cell_type": "code",
   "execution_count": null,
   "metadata": {
    "executionInfo": {
     "elapsed": 6,
     "status": "ok",
     "timestamp": 1642714065082,
     "user": {
      "displayName": "Eric P. Salathe",
      "photoUrl": "https://lh3.googleusercontent.com/a-/AOh14GglgPR1DRkbgcLfd3WBQnn1V5TCvs-9B2amF2CQ=s64",
      "userId": "05199657044909295070"
     },
     "user_tz": 480
    },
    "id": "tTpv7azNhgPG"
   },
   "outputs": [],
   "source": [
    "def W(t,y):\n",
    "    dydt = \n",
    "    return dydt"
   ]
  },
  {
   "cell_type": "markdown",
   "metadata": {
    "id": "tbHwXBzHidoH"
   },
   "source": [
    "set initial conditions and time array for solution"
   ]
  },
  {
   "cell_type": "code",
   "execution_count": null,
   "metadata": {
    "executionInfo": {
     "elapsed": 5,
     "status": "ok",
     "timestamp": 1642714065082,
     "user": {
      "displayName": "Eric P. Salathe",
      "photoUrl": "https://lh3.googleusercontent.com/a-/AOh14GglgPR1DRkbgcLfd3WBQnn1V5TCvs-9B2amF2CQ=s64",
      "userId": "05199657044909295070"
     },
     "user_tz": 480
    },
    "id": "9Cf7qEoYhvKK"
   },
   "outputs": [],
   "source": [
    "# generate times from 0 to 1 at dt = 0.1\n",
    "t0 = 0\n",
    "y0 = 1 # initial condition\n",
    "\n",
    "tend = 1 # sec\n",
    "time_step = 0.1 # sec\n",
    "t = np.arange(t0, tend+time_step, time_step)\n",
    "omega = 4*pi\n"
   ]
  },
  {
   "cell_type": "markdown",
   "metadata": {
    "id": "8AbPHQCQiiV3"
   },
   "source": [
    "Solve two ways"
   ]
  },
  {
   "cell_type": "code",
   "execution_count": null,
   "metadata": {
    "executionInfo": {
     "elapsed": 6,
     "status": "ok",
     "timestamp": 1642714065083,
     "user": {
      "displayName": "Eric P. Salathe",
      "photoUrl": "https://lh3.googleusercontent.com/a-/AOh14GglgPR1DRkbgcLfd3WBQnn1V5TCvs-9B2amF2CQ=s64",
      "userId": "05199657044909295070"
     },
     "user_tz": 480
    },
    "id": "SjTXipazho1z"
   },
   "outputs": [],
   "source": [
    "# Solve with euler\n",
    "y_euler = euler(W,y0,t)\n",
    "\n",
    "# Solve with odeint\n",
    "y_odeint = odeint(W,y0,t, tfirst=True)\n"
   ]
  },
  {
   "cell_type": "markdown",
   "metadata": {
    "id": "M1ikkeTGikiI"
   },
   "source": [
    "Plot and compare"
   ]
  },
  {
   "cell_type": "code",
   "execution_count": null,
   "metadata": {
    "colab": {
     "base_uri": "https://localhost:8080/",
     "height": 279
    },
    "executionInfo": {
     "elapsed": 593,
     "status": "ok",
     "timestamp": 1642714065671,
     "user": {
      "displayName": "Eric P. Salathe",
      "photoUrl": "https://lh3.googleusercontent.com/a-/AOh14GglgPR1DRkbgcLfd3WBQnn1V5TCvs-9B2amF2CQ=s64",
      "userId": "05199657044909295070"
     },
     "user_tz": 480
    },
    "id": "Ux8nmNxliCMn",
    "outputId": "e661d5a8-89fc-4efc-84ef-4c008b28a0ea"
   },
   "outputs": [],
   "source": [
    "# plot\n",
    "#plot(t,y_analytic,'kx',linewidth=2,label='Analytic')\n",
    "plot(t,y_euler,'b.',linewidth=2,label='Euler')\n",
    "plot(t,y_odeint,'r.',linewidth=2,label='odeint')\n",
    "xlabel('time')\n",
    "ylabel('y(t)')\n",
    "legend()\n",
    "show()\n"
   ]
  }
 ],
 "metadata": {
  "colab": {
   "authorship_tag": "ABX9TyND3lcQazwseSnAPQyZ1Oku",
   "collapsed_sections": [],
   "name": "OscillatingGrowth.ipynb",
   "provenance": []
  },
  "kernelspec": {
   "display_name": "Python 3 (ipykernel)",
   "language": "python",
   "name": "python3"
  },
  "language_info": {
   "codemirror_mode": {
    "name": "ipython",
    "version": 3
   },
   "file_extension": ".py",
   "mimetype": "text/x-python",
   "name": "python",
   "nbconvert_exporter": "python",
   "pygments_lexer": "ipython3",
   "version": "3.9.15"
  }
 },
 "nbformat": 4,
 "nbformat_minor": 1
}
