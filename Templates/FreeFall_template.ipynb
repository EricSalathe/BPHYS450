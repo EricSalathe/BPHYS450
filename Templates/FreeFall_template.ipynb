{
 "cells": [
  {
   "cell_type": "markdown",
   "metadata": {
    "id": "IMqo-TUQDCUJ"
   },
   "source": [
    "## Free Fall\n",
    "\n",
    "To solve a 2nd order ODE, you need to conver it to a system of two 1st order ODEs. The dependent variables are the function and its derivative, so in general, a 2nd order ODE can be written<br>\n",
    "$$\\frac{d^2y}{dt^2}=f(t,y,y').$$\n",
    "We can write this as a system of two 1st order ODEs for the two dependent variables $y$ and $y'$:\n",
    "$$\\frac{dy}{dt}=y'$$\n",
    "$$\\frac{dy'}{dt}=f(t,y,y')$$\n",
    "The first equation is just the definition of $y'$ and the second is our original ODE.\n",
    "<br><br>\n",
    "For Newton's second law, this is very intuitive. $F=ma$ for a constant mass becomes the 2nd order ODE \n",
    "$$\\frac{d^2x}{dt^2} = \\frac{F(t,x,x')}{m}.$$ \n",
    "But if we write this in terms of two variables, $x$ and $v=x'$, it becomes the sytem\n",
    "$$\\frac{dx}{dt} = v$$\n",
    "$$\\frac{dv}{dt} = \\frac{F(t,x,x')}{m}$$\n",
    "As above, the first equation is just the definition of $v$ and the second is our original 2nd order ODE written as a 1nd order ODE in $v$.\n",
    "<br><br>\n",
    "To illustrate, consider a falling object with air resistance. It has two forces acting on it, gravity and drag. Gravity is just $F_g=-mg$. Let's assume drag is opposite the direction of velocity and proportional to $v^2$ with drag coeeficient $c$, so the drag force is $F_d=-cv^2$ for $v>0$ or $F_d=cv^2$ for $v<0$. \n",
    "\n",
    "Use the te."
   ]
  },
  {
   "cell_type": "code",
   "execution_count": null,
   "metadata": {
    "id": "Tfy1ElN3DATE"
   },
   "outputs": [],
   "source": [
    "from numpy import linspace,array,arange, log,exp,sin,cos,sqrt, pi, zeros, ones, sign\n",
    "import numpy as np\n",
    "\n",
    "g = 9.81\n",
    "\n",
    "def falling( t, V ):\n",
    "    \"\"\"\n",
    "    RATE_FUNC for Newton's 2nd Law  F = ma\n",
    "    \n",
    "    2nd order ODE \n",
    "    a = d2x/dt2 = F/m\n",
    "    \n",
    "    \"\"\"\n",
    "    #  unpack\n",
    "        \n",
    "    # compute derivatives\n",
    "    dy = \n",
    "    dv = \n",
    "        \n",
    "    # pack rate array\n",
    "    rate = \n",
    "        \n",
    "    return rate\n",
    "\n",
    "# set some initial conditions\n",
    "y0 = 100\n",
    "v0 = 20\n",
    "Y0 =  # pack the i.c. into a column vector\n",
    "\n",
    "# set the time interval for solving\n",
    "Tstart=0\n",
    "Tend = 10 # s\n",
    "\n",
    "# Form Time array\n",
    "\n",
    "T = linspace(Tstart,Tend,100)\n",
    "\n",
    "# solve the ODE\n",
    "from scipy.integrate import odeint\n",
    "X = odeint(falling, Y0, T, tfirst=True)\n",
    "\n",
    "# unpack the results. In the output array, variables are columns, times are rows\n",
    "y = X[:,0]\n",
    "v = X[:,1]\n",
    "\n",
    "# make some nice plots\n",
    "from matplotlib.pyplot import plot,xlabel,ylabel,legend,show, figure, subplot, xlim\n",
    "\n",
    "plot (T,y, label='Height')\n",
    "plot (T,v, label='Velocity')\n",
    "xlabel('Seconds')\n",
    "ylabel('m or m/s')\n",
    "legend()"
   ]
  }
 ],
 "metadata": {
  "colab": {
   "authorship_tag": "ABX9TyPREOlnHlKSWWZDx7O9DKkZ",
   "name": "FreeFall_template.ipynb",
   "provenance": []
  },
  "kernelspec": {
   "display_name": "Python 3 (ipykernel)",
   "language": "python",
   "name": "python3"
  },
  "language_info": {
   "codemirror_mode": {
    "name": "ipython",
    "version": 3
   },
   "file_extension": ".py",
   "mimetype": "text/x-python",
   "name": "python",
   "nbconvert_exporter": "python",
   "pygments_lexer": "ipython3",
   "version": "3.9.7"
  }
 },
 "nbformat": 4,
 "nbformat_minor": 4
}
