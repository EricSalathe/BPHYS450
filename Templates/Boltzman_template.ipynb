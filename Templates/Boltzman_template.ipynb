{
 "cells": [
  {
   "cell_type": "markdown",
   "id": "77966c69",
   "metadata": {},
   "source": [
    "# Introduction\n",
    "\n",
    "https://www.compadre.org/PICUP/exercises/Exercise.cfm?A=boltzmann&S=3\n",
    "\n",
    "The Boltzmann distribution is fundamental to statistical thermodynamics. It states that the probability of a thermal system in an\n",
    "energy state $E_n$ at temperature $T$ is\n",
    "\n",
    "\\begin{equation}\n",
    "P_n=C \\exp(-E_n/kT), \n",
    "\\end{equation}\n",
    "\n",
    "\n",
    "where \\(C\\) is a normalization\n",
    "constant. We can choose $C$ to ensure\n",
    "$$\\sum_n P_n = 1$$\n",
    "\n",
    "The Einstein model of solids is a simplified but highly useful model. In this model we assume a solid is made up of $N$ harmonic oscillators. Each oscillator can store $E_n=q\\epsilon$ amount of energy, with $q=n=0,1,2,…$ being an integer and $\\epsilon$ a unit (quantum) of energy. \n",
    "\n",
    "This model is analytically solvable. For a large solid N≫1, the average energy $\\bar q$ is related to temperature $T$\n",
    "by \n",
    "\n",
    "\\begin{equation}\n",
    "\\bar q = \\frac{1}{\\exp(\\epsilon/kT)-1},\n",
    "\\end{equation}\n",
    "\n",
    "where\n",
    "$k$ is the Boltzmann constant. Solving for temperature gives us\n",
    "\n",
    "\\begin{equation}\n",
    "kT = \\frac{\\epsilon}{\\ln(1+1/\\bar q)}. \n",
    "\\end{equation}\n",
    "\n",
    "\n",
    "In the simulation, we\n",
    "will set $\\epsilon =1$ without loss of generality."
   ]
  },
  {
   "cell_type": "markdown",
   "id": "f1a38521",
   "metadata": {},
   "source": [
    "# Part 1\n",
    "\n",
    "In a thermal system, we have many atoms and molecules exchanging energy with each other via mutual interactions in order to reach equilibrium. To mimic such a system, let us play a thought money-swap game among N people in the room. Everyone starts with 10 gold coins. The rules are: In each turn, we randomly select a person, Amy, to give a coin to another randomly-selected person, Bob. If Amy has coins in her possession, she gives one to Bob. If Amy has no coins, pick a different donor. Repeat the turns many times. What is the wealth distribution (number of coins each person has) in the end?\n",
    "\n",
    "A: equally distributed (everyone has roughly the same average 10 coins)\n",
    "\n",
    "B: rich-poor divide (a few rich people but many poor ones)\n",
    "\n",
    "C: bell-shaped curve (most people in the middle)\n",
    "\n",
    "D: not sure (random outcome)\n",
    "\n",
    "Make a prediction, and write it down."
   ]
  },
  {
   "cell_type": "markdown",
   "id": "96e1cca5",
   "metadata": {},
   "source": [
    "# Part 2\n",
    "\n",
    "Now simulate this same game. We will use a 2-D solid containing $N$ cells. Start with all cells containing the same amount of energy. Randomly pick a pair of cells using the rules above, and exchange energy. Repeat L times, where L is the number of interactions (say 100) times the number of cells. \n",
    "\n",
    "At the end, there will be a fraction of cells containing energy each energy, $E_n$. Note that we have set $\\epsilon = 1$ so our energy levels are just the integers $E_n = 1,2,3,...$ \n",
    "\n",
    "Our simulated probablilty distribution $P_n$ is just the fraction of cells with energy with each value of q. So, after running the simulation, just count up the cells at each energy level (ie each value of n), divide by $N$, and that's $P_n$. This should match the theoretical function above.\n",
    "\n",
    "We can also add error bars to our probablilty distribution, where the error is given by $\\xi = \\sqrt{P_n/N}$. "
   ]
  },
  {
   "cell_type": "code",
   "execution_count": null,
   "id": "906720d2",
   "metadata": {},
   "outputs": [],
   "source": [
    "import random as rnd\n",
    "import matplotlib.pyplot as plt, numpy as np\n",
    "from numpy import linspace,array,arange, log,exp,sin,cos,sqrt, pi, zeros, ones, arctan\n",
    "from matplotlib.pyplot import plot,xlabel,ylabel,legend,show, figure, subplot"
   ]
  },
  {
   "cell_type": "markdown",
   "id": "0e43c9f1",
   "metadata": {},
   "source": [
    "Create a subroutine to execute the rules of the exchange. \n",
    "\n",
    "solid is an input array containing the energy state of each cell in the solid. \n",
    "\n",
    "N is the number of cells\n",
    "\n",
    "L is the number of interations\n",
    "\n",
    "Get the a random cell index using rnd.randint(a, b) to generate a random integer $a \\le i \\le b$. Careful: for an array with dimension N, what is the smallest index? What is the largest index?"
   ]
  },
  {
   "cell_type": "code",
   "execution_count": null,
   "id": "df2d9bd7",
   "metadata": {},
   "outputs": [],
   "source": [
    "def exchange(solid, N, L):               # iterate L times\n",
    "    for i in range(L):\n",
    "        take =  # random index of cell to take from\n",
    "        give =  # random index of cell to give to\n",
    "        \n",
    "        # Check if take has non-zero energy; if not select another take cell\n",
    "        # Use a while loop to check and repeat\n",
    "\n",
    "        # exchange energy\n",
    "        solid[take] = \n",
    "        solid[give] =\n",
    "    return solid"
   ]
  },
  {
   "cell_type": "markdown",
   "id": "9564d162",
   "metadata": {},
   "source": [
    "Now write a function to sample your solid to find the probablility distribution, that is, the fraction of cells with each energy level.  Note that we have set $\\epsilon = 1$ so our energy levels are just the integers $E_n = q = 1,2,3,...,q_{max}$\n",
    "\n",
    "To do this, find the maximum energy level in the solid and loop over the energy levels, $q$. numpy has a convienient function np.count_nonzero() that can count non-zero elements of the input. Since False is treated as zoro, this can also work with a logical statement as iput. If you have an array x, and you want to find where x=x0, you can create an array with zeros (or False) where x!=x0 and ones where x==0 with the simple command x==x0. You can use that as input to np.count_nonzero(). See \n",
    "https://thispointer.com/count-occurrences-of-a-value-in-numpy-array-in-python/#1\n",
    "\n",
    "or try this:"
   ]
  },
  {
   "cell_type": "code",
   "execution_count": null,
   "id": "90935a7c",
   "metadata": {},
   "outputs": [],
   "source": [
    "x = arange(10)\n",
    "print(count_nonzero(x>5))"
   ]
  },
  {
   "cell_type": "code",
   "execution_count": null,
   "id": "6956944d",
   "metadata": {},
   "outputs": [],
   "source": [
    "def sample(solid, N):                       # sample energy distribution\n",
    "    qmax = int(np.max(cell))\n",
    "    pn = zeros(qmax)\n",
    "\n",
    "    # Loop over q from 0 to qmax and count elements of solid that equal q\n",
    "    #  use np.count_nonzero()\n",
    "    \n",
    "    error = np.sqrt(pn/N)                 # statistical error\n",
    "    return qmax, pn, error"
   ]
  },
  {
   "cell_type": "markdown",
   "id": "f2bd47a3",
   "metadata": {},
   "source": [
    "Here we just set up the parameters of the problem. Assume a 20x20 2-D solid with average energy of 10. Initialize solid so all cells have qavg energy."
   ]
  },
  {
   "cell_type": "code",
   "execution_count": null,
   "id": "dee35478",
   "metadata": {},
   "outputs": [],
   "source": [
    "# set up solid\n",
    "qavg = 10                               # avg  units of energy per oscillator\n",
    "N = 400 # number of cells\n",
    "\n",
    "# Create a list containing the N values of energy, initialized so all cells have energy qavg\n",
    "solid = "
   ]
  },
  {
   "cell_type": "markdown",
   "id": "cbf93cd3",
   "metadata": {},
   "source": [
    "Now use the two functions above to run the simulation and compute the probablilty distribution."
   ]
  },
  {
   "cell_type": "code",
   "execution_count": null,
   "id": "61b0619e",
   "metadata": {},
   "outputs": [],
   "source": [
    "# Simulate\n",
    "Nint = 100 # number of interactions\n",
    "L = # number of times to interate\n",
    "exchange()         # thermalize, 100 interactions per oscillator \n",
    "qmax, pn, error = sample()"
   ]
  },
  {
   "cell_type": "markdown",
   "id": "d7b5f33e",
   "metadata": {},
   "source": [
    "Finally, get the analytic solution using the equations above. \n",
    "\n",
    "\n",
    "For En, use the same sequece of values as in the simulation, $E_n = q = 1, 2, 3,...,q_{max}$. Once you fill in the array En, you can get an array pn_th just by using En in the equation for $P_n$:\n",
    "\\begin{equation}\n",
    "P_n=C \\exp(-E_n/kT), \n",
    "\\end{equation}\n",
    "\n",
    "For the arbitrary constant, C, ideally compute $\\sum_k P_n$ and normalize to one: \n",
    "$$ C = \\left[ \\sum_k  \\exp(-E_n/kT) \\right]^{-1}$$\n",
    "Or, just use the maximum value of our empirical result, pn, using np.max(); this just makes the graphics come out nice.\n"
   ]
  },
  {
   "cell_type": "code",
   "execution_count": null,
   "id": "b4d7ea9a",
   "metadata": {},
   "outputs": [],
   "source": [
    "# analytic Boltzmann dist, qavg = 1/(exp(1/kT)-1), 1/kT=ln(1+1/qavg)\n",
    "kT = \n",
    "C = \n",
    "\n",
    "En = np.arange(qmax)\n",
    "\n",
    "pn_th = "
   ]
  },
  {
   "cell_type": "markdown",
   "id": "bf01ce81",
   "metadata": {},
   "source": [
    "No changes needed below to plot your result."
   ]
  },
  {
   "cell_type": "code",
   "execution_count": null,
   "id": "e348defa",
   "metadata": {},
   "outputs": [],
   "source": [
    "# Plot result\n",
    "fig = plt.figure(1)\n",
    "plt.plot(En, pn, 'o')\n",
    "plt.errorbar(En, pn, error, ls='')\n",
    "plt.plot(En, pn_th, '-r')    #  theoretical result   \n",
    " \n",
    "plt.xlim(0,qmax)\n",
    "plt.xlabel('Energy units')\n",
    "plt.ylabel('Probability')\n",
    "plt.semilogy()        # semilog scale    \n",
    "plt.show()"
   ]
  },
  {
   "cell_type": "markdown",
   "id": "bc5e06c5",
   "metadata": {},
   "source": [
    "# Part 3\n",
    "\n",
    "Note the data points scatter around a straight line of the analytic result Eq. (1)\n",
    "on a semilog scale for the y-axis.\n",
    "\n",
    "From the graph, estimate the slope of the line. What is the meaning of it?\n",
    "Modify the program to change the solid size to 800, 1000, and average energy $\\bar q$\n",
    "to 20, 30, etc. Each time obtain the slope graphically, and compare them with Eq. (3)\n",
    "\n",
    "What does the slope depend on, N, $\\bar q$, or both? Explain.\n",
    "Focusing on the data error bars, what makes them smallerN, $\\bar q$, or both? Explain."
   ]
  },
  {
   "cell_type": "code",
   "execution_count": null,
   "id": "99788d3d",
   "metadata": {},
   "outputs": [],
   "source": []
  }
 ],
 "metadata": {
  "kernelspec": {
   "display_name": "Python 3 (ipykernel)",
   "language": "python",
   "name": "python3"
  },
  "language_info": {
   "codemirror_mode": {
    "name": "ipython",
    "version": 3
   },
   "file_extension": ".py",
   "mimetype": "text/x-python",
   "name": "python",
   "nbconvert_exporter": "python",
   "pygments_lexer": "ipython3",
   "version": "3.9.7"
  }
 },
 "nbformat": 4,
 "nbformat_minor": 5
}
