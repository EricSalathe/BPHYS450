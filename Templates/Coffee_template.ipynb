{
 "cells": [
  {
   "cell_type": "markdown",
   "metadata": {
    "id": "95bFQrK01njz"
   },
   "source": [
    "## Cooling Coffee\n",
    "\n",
    "Suppose that you are given an 8 ounce cup of coffee at 90°C and a 1 ounce container of cream at 20°C. You have learned from bitter experience that the hottest coffee you can drink comfortably is 60°C.  Assuming that you take cream in your coffee, and that you would like to start drinking as soon as possible, how long you should wait before adding the cream so that the coffee is 60°C?\n",
    "\n",
    "To answer this question, you have to model the cooling process of a hot liquid in air and the mixing of liquids at different temperatures.\n",
    "\n",
    "Hot coffee transfers heat to the environment by conduction, radiation, and evaporative cooling. Quantifying these effects individually would be challenging and unnecessary to answer the question as posed.\n",
    "\n",
    "As a simplification, we can use Newton’s Law of Cooling :\n",
    "\\begin{equation}\n",
    "    \\frac{dy}{dt} = −r(y − T)\n",
    "\\end{equation}\n",
    "where y is the temperature of the coffee as a function of time and dy/dt is its time derivative; T is the temperature of the environment, which is a constant in this case (20°C), and r is a parameter (also constant) that characterizes the rate of heat transfer. Let’s assume that r = 0.001 1/s.\n",
    "\n",
    "In general, the final temperature of a mixture depends on the specific heat of the two liquids. But if we make the simplifying assumption that coffee and cream have the same density and specific heat, then the mixed temperature, ymix, is just a volume-weighed average \n",
    "\n",
    " <pre>ymix = (v1*y1 + v2*y2)/(v1 + v2)</pre>\n",
    "where v1 and v2 are the volumes of the liquids, and y1 and y2 are their temperatures.\n",
    "\n"
   ]
  },
  {
   "cell_type": "markdown",
   "metadata": {
    "id": "-Zvr0ZTA9LP-"
   },
   "source": [
    "Some Preliminaries:\n",
    "Load modules"
   ]
  },
  {
   "cell_type": "code",
   "execution_count": null,
   "metadata": {
    "id": "EBDG1wC-9SVb"
   },
   "outputs": [],
   "source": [
    "from numpy import linspace,log,exp,sin,cos,sqrt,pi,e\n",
    "from scipy.optimize import brentq\n",
    "from scipy.integrate import odeint"
   ]
  },
  {
   "cell_type": "markdown",
   "metadata": {
    "id": "9qs6FfYa9XU2"
   },
   "source": [
    "Fill in parameters of problem:"
   ]
  },
  {
   "cell_type": "code",
   "execution_count": null,
   "metadata": {
    "id": "RXEen5o19d_a"
   },
   "outputs": [],
   "source": [
    "# set the temperatures in °C\n",
    "HotCoffeeTemp = 100\n",
    "CreamTemp = 20\n",
    "CoolCoffee = 60 # Drinkable temperature\n",
    "RoomTemp = 20\n",
    "\n",
    "# set the volumes in oz\n",
    "CoffeeVol = 8 \n",
    "CreamVol = 1\n",
    "\n",
    "# newton cooling rate\n",
    "r = 0.001"
   ]
  },
  {
   "cell_type": "markdown",
   "metadata": {
    "id": "_L7_IN2x7qk4"
   },
   "source": [
    "1) create a function called rate_func  that takes inputs t and y and computes rate_func(t,y) based on the above cooling rate formula, where y is the temperature of the coffee at a particular point in time. Notice that in this case rate_func does not actually depend on t; nevertheless, your function has to take t as the first input argument in order to work with ode45. You need to add the relevant parameters in the sub function from above."
   ]
  },
  {
   "cell_type": "code",
   "execution_count": null,
   "metadata": {
    "id": "CCmmYZ_c7sHf"
   },
   "outputs": [],
   "source": [
    "def rate_func(t,y):\n",
    "    # This function specifies the right-hand-side of the newtonian\n",
    "    # cooling differential equation. We will use it later in ode45\n",
    "    global RoomTemp, r\n",
    "    rate = \n",
    "    return rate"
   ]
  },
  {
   "cell_type": "markdown",
   "metadata": {
    "id": "POA29Zuy7wUR"
   },
   "source": [
    "Call **odeint** like this:<br>\n",
    "\n",
    "> odeint(func, y0, t_array, tfirst=False)\n",
    "\n",
    "**odeint** solves the ode dy/dt=func(t,y) at the values of t specified in the array given in third input arguement, t_array.<br>\n",
    "The first value of t_array must correpond to the initial condition. If you only want solution at a single final time, say 90 seconds, giving \n",
    ">t_array=[0, 90] \n",
    "\n",
    "as the input array returns only the initial and final values of the solution."
   ]
  },
  {
   "cell_type": "code",
   "execution_count": null,
   "metadata": {
    "colab": {
     "base_uri": "https://localhost:8080/"
    },
    "executionInfo": {
     "elapsed": 17,
     "status": "ok",
     "timestamp": 1642717350559,
     "user": {
      "displayName": "Eric P. Salathe",
      "photoUrl": "https://lh3.googleusercontent.com/a-/AOh14GglgPR1DRkbgcLfd3WBQnn1V5TCvs-9B2amF2CQ=s64",
      "userId": "05199657044909295070"
     },
     "user_tz": 480
    },
    "id": "0nDP55We7zge",
    "outputId": "98ef9c05-c390-47f5-9db9-ad5c8b5c1f6d"
   },
   "outputs": [],
   "source": [
    "# What's the cooling rate for 90°C Coffee?\n",
    "rate_func(0,90)"
   ]
  },
  {
   "cell_type": "code",
   "execution_count": null,
   "metadata": {
    "colab": {
     "base_uri": "https://localhost:8080/"
    },
    "executionInfo": {
     "elapsed": 13,
     "status": "ok",
     "timestamp": 1642717350560,
     "user": {
      "displayName": "Eric P. Salathe",
      "photoUrl": "https://lh3.googleusercontent.com/a-/AOh14GglgPR1DRkbgcLfd3WBQnn1V5TCvs-9B2amF2CQ=s64",
      "userId": "05199657044909295070"
     },
     "user_tz": 480
    },
    "id": "5nbbVgupGjzy",
    "outputId": "9535a202-643f-40fa-e662-a60998715c36"
   },
   "outputs": [],
   "source": [
    "# Get values a t=0 and t=90 (ie [0, 90])\n",
    "odeint(rate_func, 90, [0,90], tfirst=True)"
   ]
  },
  {
   "cell_type": "code",
   "execution_count": null,
   "metadata": {
    "colab": {
     "base_uri": "https://localhost:8080/",
     "height": 215
    },
    "executionInfo": {
     "elapsed": 127,
     "status": "error",
     "timestamp": 1642717350679,
     "user": {
      "displayName": "Eric P. Salathe",
      "photoUrl": "https://lh3.googleusercontent.com/a-/AOh14GglgPR1DRkbgcLfd3WBQnn1V5TCvs-9B2amF2CQ=s64",
      "userId": "05199657044909295070"
     },
     "user_tz": 480
    },
    "id": "-zv4HFzdGmdG",
    "outputId": "cf61da4f-ca83-4831-aec6-5b60868fdb8b"
   },
   "outputs": [],
   "source": [
    "# Get 10 values over first minute\n",
    "time = linspace(0,60,10)\n",
    "Temp = odeint()\n",
    "# try plotting"
   ]
  },
  {
   "cell_type": "markdown",
   "metadata": {
    "id": "jDBgaTjL72pB"
   },
   "source": [
    "2) Write a function called mix_func that computes the temperature of a mixture of two liquids. It needs the volumes and temperatures of the liquids and returns the temperature of the mixture. Add code to coffee to test mix_func.  "
   ]
  },
  {
   "cell_type": "code",
   "execution_count": null,
   "metadata": {
    "id": "95yIcZoIh65Q"
   },
   "outputs": [],
   "source": [
    "def mix_func(V1,T1,V2,T2):\n",
    "    # Calculates the final temperature of two liquids after they have been\n",
    "    # mixed based upon the initial temperature and volume of each individual liquid.\n",
    "    # Function is passed:\n",
    "    # V1, initial Volume of liquid one\n",
    "    # T1, initial temperature of liquid one\n",
    "    # V2, initial Volume of liquid two\n",
    "    # T2, initial temperature of liquid two\n",
    "    # Tmix, the temperature of the mixture\n",
    "\n",
    "    Tmix = \n",
    "    return Tmix"
   ]
  },
  {
   "cell_type": "markdown",
   "metadata": {
    "id": "0lWB8OY69_Vb"
   },
   "source": [
    "Test your mixing function by trying different temperatures and volumes"
   ]
  },
  {
   "cell_type": "code",
   "execution_count": null,
   "metadata": {
    "colab": {
     "base_uri": "https://localhost:8080/"
    },
    "executionInfo": {
     "elapsed": 104,
     "status": "ok",
     "timestamp": 1642717362155,
     "user": {
      "displayName": "Eric P. Salathe",
      "photoUrl": "https://lh3.googleusercontent.com/a-/AOh14GglgPR1DRkbgcLfd3WBQnn1V5TCvs-9B2amF2CQ=s64",
      "userId": "05199657044909295070"
     },
     "user_tz": 480
    },
    "id": "bSCh2fq0-BzA",
    "outputId": "217f768f-686f-4672-99bf-b9418ad19ae9"
   },
   "outputs": [],
   "source": [
    "v1 = 10\n",
    "v2 = 20\n",
    "t1 = 100\n",
    "t2 = 150\n",
    "mix_func(v1,t1, v2,t2)"
   ]
  },
  {
   "cell_type": "markdown",
   "metadata": {
    "id": "WLVnDKV48GZz"
   },
   "source": [
    "3) These two functions model the two processes in the problem. Now add another function that calls odeint and returns the temperature of the coffee after waiting a specified time, t, and mixing in the cream. Test this function to get the temperature after 60 minutes of cooling. For testing, plot the temperature for 60 minutes and confirm that the coffee cools quickly at first, then more slowly, reaches room temperature (approximately) after about an hour, then cools . You now have a function with a single input time and single output temperature"
   ]
  },
  {
   "cell_type": "code",
   "execution_count": null,
   "metadata": {
    "id": "zRKIss_X8HqD"
   },
   "outputs": [],
   "source": [
    "def CoffeeTemp(t):\n",
    "    # This function returns the temperature of the coffee after cooling\n",
    "    # for t seconds and mixing with cream. It models the physical\n",
    "    # process in the problem, first cooling then mixing.\n",
    "\n",
    "    # first let the coffee cool for t seconds\n",
    "    TT = odeint(, tfirst=True) # fill in arguments\n",
    "    Temp =  # the final value in TT is the temperature after cooling for t seconds\n",
    "\n",
    "    # second mix cream with coffee to get final temperature using mix_func\n",
    "    Temp = mix_func()\n",
    "    \n",
    "    return Temp"
   ]
  },
  {
   "cell_type": "markdown",
   "metadata": {
    "id": "zCQghS2O8NBG"
   },
   "source": [
    "4) Test your sub functions with different amounts of time; print the temperature of the coffee after mixing.\n",
    "\n",
    "How would you model the situation of mixing the cream first then letting the coffee cool?\n",
    "\n"
   ]
  },
  {
   "cell_type": "code",
   "execution_count": null,
   "metadata": {
    "colab": {
     "base_uri": "https://localhost:8080/"
    },
    "executionInfo": {
     "elapsed": 110,
     "status": "ok",
     "timestamp": 1642717365627,
     "user": {
      "displayName": "Eric P. Salathe",
      "photoUrl": "https://lh3.googleusercontent.com/a-/AOh14GglgPR1DRkbgcLfd3WBQnn1V5TCvs-9B2amF2CQ=s64",
      "userId": "05199657044909295070"
     },
     "user_tz": 480
    },
    "id": "dxvrmxZ68Pfl",
    "outputId": "698930e8-2d23-4ea0-ea07-bf373c21722c"
   },
   "outputs": [],
   "source": [
    "# Testing 1 2 3 \n",
    "CoffeeTemp(1000)"
   ]
  },
  {
   "cell_type": "markdown",
   "metadata": {
    "id": "arqjLYNP8XPi"
   },
   "source": [
    "**At this point, despite all the code you've written, you basically just a simple function: temp = coffeetemp(t), that gives the temperature of the coffee after a time t, including the cooling and mixing processes.**"
   ]
  },
  {
   "cell_type": "markdown",
   "metadata": {
    "id": "-jH-YrIX8Zww"
   },
   "source": [
    "6) Use brentq to find the time t that results in the temperature of the coffee after cooling and mixing to be 60°C (i.e. find t such that coffeetemp(t) returns a value of 60°C. This will require writing a new function that calls CoffeeTemp(t) and returns the difference to the desired temperature. You are not trying to find the roots of coffeetemp(t), but of a the difference function between coffeetemp(t) and 60°C. Use your physical intuition to come up with brackets [tmin,tmax] -- the coffee will clearly take more than tmin seconds but fewer than tmax seconds. Note that the calculation fails for tmin=0, so use something else."
   ]
  },
  {
   "cell_type": "code",
   "execution_count": null,
   "metadata": {
    "id": "XECdxwPf8dhi"
   },
   "outputs": [],
   "source": [
    "def TempDiff(t):\n",
    "  # difference between temperature of coffee and desired temperature\n",
    "  diff = \n",
    "  return diff"
   ]
  },
  {
   "cell_type": "code",
   "execution_count": null,
   "metadata": {
    "colab": {
     "base_uri": "https://localhost:8080/"
    },
    "executionInfo": {
     "elapsed": 115,
     "status": "ok",
     "timestamp": 1642717368781,
     "user": {
      "displayName": "Eric P. Salathe",
      "photoUrl": "https://lh3.googleusercontent.com/a-/AOh14GglgPR1DRkbgcLfd3WBQnn1V5TCvs-9B2amF2CQ=s64",
      "userId": "05199657044909295070"
     },
     "user_tz": 480
    },
    "id": "giZuj8Pjks_j",
    "outputId": "1b9a06f8-d9c3-48ba-c7e1-dab221b2b5e7"
   },
   "outputs": [],
   "source": [
    "TempDiff(1000)"
   ]
  },
  {
   "cell_type": "markdown",
   "metadata": {
    "id": "7DKfVZl3_AGL"
   },
   "source": [
    "Now use Brentq to find the time to cool the coffee to the desired temperature."
   ]
  },
  {
   "cell_type": "code",
   "execution_count": null,
   "metadata": {
    "colab": {
     "base_uri": "https://localhost:8080/"
    },
    "executionInfo": {
     "elapsed": 135,
     "status": "ok",
     "timestamp": 1642717371071,
     "user": {
      "displayName": "Eric P. Salathe",
      "photoUrl": "https://lh3.googleusercontent.com/a-/AOh14GglgPR1DRkbgcLfd3WBQnn1V5TCvs-9B2amF2CQ=s64",
      "userId": "05199657044909295070"
     },
     "user_tz": 480
    },
    "id": "oLsbCyZ48kEd",
    "outputId": "5841e848-edf5-4374-8533-36411eaed95f"
   },
   "outputs": [],
   "source": [
    "CoolTime = brentq()\n",
    "print(CoolTime)"
   ]
  },
  {
   "cell_type": "markdown",
   "metadata": {
    "id": "9jijrzIP_EVP"
   },
   "source": [
    "Formatted printout"
   ]
  },
  {
   "cell_type": "code",
   "execution_count": null,
   "metadata": {
    "colab": {
     "base_uri": "https://localhost:8080/"
    },
    "executionInfo": {
     "elapsed": 121,
     "status": "ok",
     "timestamp": 1642717372761,
     "user": {
      "displayName": "Eric P. Salathe",
      "photoUrl": "https://lh3.googleusercontent.com/a-/AOh14GglgPR1DRkbgcLfd3WBQnn1V5TCvs-9B2amF2CQ=s64",
      "userId": "05199657044909295070"
     },
     "user_tz": 480
    },
    "id": "BhKSe7aI84qB",
    "outputId": "ed1546fa-0066-4dbe-93f4-72ac0ae302e7"
   },
   "outputs": [],
   "source": [
    "print('If you start with ',round(CoffeeVol),'oz of coffee at ',round(HotCoffeeTemp,3),'deg-C')\n",
    "print('mix in ',round(CreamVol),'oz of cream at ', \n",
    "    round(CreamTemp),'deg-C ',\n",
    "    'and wait ',round(CoolTime/60,2), 'minutes')\n",
    "print('then your coffee will be at the ideal temperature of ',round(CoolCoffee,3),'deg-C')\n"
   ]
  }
 ],
 "metadata": {
  "colab": {
   "collapsed_sections": [],
   "name": "Coffee_template.ipynb",
   "provenance": []
  },
  "kernelspec": {
   "display_name": "Python 3 (ipykernel)",
   "language": "python",
   "name": "python3"
  },
  "language_info": {
   "codemirror_mode": {
    "name": "ipython",
    "version": 3
   },
   "file_extension": ".py",
   "mimetype": "text/x-python",
   "name": "python",
   "nbconvert_exporter": "python",
   "pygments_lexer": "ipython3",
   "version": "3.9.7"
  }
 },
 "nbformat": 4,
 "nbformat_minor": 4
}
