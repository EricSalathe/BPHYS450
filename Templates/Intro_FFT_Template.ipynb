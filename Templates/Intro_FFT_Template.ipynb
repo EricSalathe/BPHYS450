{
 "cells": [
  {
   "cell_type": "markdown",
   "metadata": {
    "id": "w-zxpD6sDOPB"
   },
   "source": [
    "Use the following to explore the FFT of a simple function:\n",
    "\n",
    "$f\\left(t\\right)=a\\:\\sin\\left(f_12\\pi t\\right)+b\\:\\sin\\left(f_22\\pi t\\right)+c\\:\\cos\\left(f_32\\pi t\\right)+d\\:\\cos\\left(f_42\\pi t\\right)+e $\n",
    "\n",
    "Fill in the blanks and try different frequencies ($f_1, f_2, f_3, f_4$) and combinations of sine and cosine functions to create f. Since we've designed this function to just be a sum of a few sin and cos functions, we should get back what we put in.\n",
    "\n",
    "First run this preamble to load necessary modules"
   ]
  },
  {
   "cell_type": "code",
   "execution_count": 1,
   "metadata": {
    "id": "nkd3R9LYDHKB"
   },
   "outputs": [],
   "source": [
    "from numpy import linspace,array,zeros,log,exp,sin,cos,sqrt,pi,e, arange\n",
    "from matplotlib.pyplot import plot,xlabel,ylabel,legend,show, figure, subplot\n",
    "from scipy.fftpack import fft"
   ]
  },
  {
   "cell_type": "markdown",
   "metadata": {
    "id": "mkZptXumDdY7"
   },
   "source": [
    "Now create a time array given a sample rate, Fs, and the number of observations, nt. This is typical specification for a time series, and we can get the time interval between observations and the total lenght of the time series from these two numbers."
   ]
  },
  {
   "cell_type": "code",
   "execution_count": 4,
   "metadata": {
    "id": "ajC2AHwIDmsy"
   },
   "outputs": [],
   "source": [
    "# time dimension\n",
    "\n",
    "Fs = 500 # Hz  sampling frequency: samples per second\n",
    "nt  = 2000 #     number of samples in record\n",
    "dt =  1/Fs # sec   time between samples\n",
    "T =  nt*dT # length of time series in seconds\n",
    "\n",
    "#  time array in seconds using arange(start,stop,step)\n",
    "t=arange(0,T,dt)  \n",
    "            #   note that arange actually stops *before* stop time which\n",
    "            #   is what we want -- in a periodic function t=0 and t=T are \n",
    "            #   exactly the same, so if our time array include both, that\n",
    "            #   would be redundant\n",
    "\n"
   ]
  },
  {
   "cell_type": "markdown",
   "metadata": {},
   "source": [
    "To test this, add code to print out the first and last elements of t array and dt."
   ]
  },
  {
   "cell_type": "code",
   "execution_count": null,
   "metadata": {},
   "outputs": [],
   "source": []
  },
  {
   "cell_type": "markdown",
   "metadata": {},
   "source": [
    "Now construct the frequencies we will get from DFT"
   ]
  },
  {
   "cell_type": "code",
   "execution_count": null,
   "metadata": {
    "id": "_BKGIKBnDrf8"
   },
   "outputs": [],
   "source": [
    "# frequency dimension\n",
    "\n",
    "freqf =  # Hz   fundamental frequency (lowest frequency)\n",
    "nfmax = int(nt/2) # number of frequencies resolved by FFT\n",
    "\n",
    "freqmax = freqf*nfmax # Max frequency (Nyquist)\n",
    "\n",
    "freq = arange() # frequency array using arange(start,stop,step)\n",
    "# Note:\n",
    "#     include freq=0 (constant term), so freq[0]=0\n",
    "#     end one term before the  Nyquist (max) frequency, so freq[-1]=freqmax-freqf\n",
    "\n",
    "print('Fundamental period and Nyquist Freq',T, freqmax)"
   ]
  },
  {
   "cell_type": "markdown",
   "metadata": {
    "id": "bEeSsn6uDvQq"
   },
   "source": [
    "Select some frequencies and coefficiencts to build the function above. Start with low frequencies, that are small integer multiples of the fundamental (lowest) frequency. Then then try non-integer multiples. What happens? Try very high frequencies, close to the nyquist cutoff. What happens?"
   ]
  },
  {
   "cell_type": "code",
   "execution_count": null,
   "metadata": {
    "id": "MtgZms4vDwo1"
   },
   "outputs": [],
   "source": [
    "# select four frequencies \n",
    "f1=10*freqf\n",
    "f2=\n",
    "f3=\n",
    "f4=\n",
    "\n",
    "print('Frequencies selected:', f1, f2, f3, f4)\n",
    "\n",
    "'''\n",
    "Create an array \n",
    "   f = A sin(f1 2 pi t) + B sin(f2 2 pi t)  + C cos(f3 2 pi t) + D cos(f4 2 pi t) + E% \n",
    "Where A B C D E are integers between -10 and + 10\n",
    "Use your time array defined above so f is an array\n",
    "with values at each of these times.\n",
    "this is an array over all values of time array t, not a \"function\"\n",
    "\n",
    "what is the equation for a sine or cos wave with frequency w1?\n",
    "    \n",
    "sin and cos can opperate on an array so no loop needed\n",
    "remember factor of 2pi\n",
    "basically, just write it like math!\n",
    "\n",
    "Set some values for amplitudes with absolute value < 10\n",
    "'''\n",
    "\n",
    "A = \n",
    "B = \n",
    "C = \n",
    "D = \n",
    "E = \n",
    "\n",
    "f =  \n",
    "\n"
   ]
  },
  {
   "cell_type": "markdown",
   "metadata": {
    "id": "br0Gn4iDEoz3"
   },
   "source": [
    "The rest of the code needs no editing, just read to understand how it works."
   ]
  },
  {
   "cell_type": "markdown",
   "metadata": {
    "id": "IuqsJrdyEyVe"
   },
   "source": [
    "This block takes the FFT, constructs the a and b coefficients and the power spectrum"
   ]
  },
  {
   "cell_type": "code",
   "execution_count": null,
   "metadata": {
    "id": "MkB5DXS-EqUQ"
   },
   "outputs": [],
   "source": [
    "# take FFT of this function\n",
    "F = fft(f)\n",
    "\n",
    "# get the coeffs\n",
    "a = 2*real(F[:nfmax])/nt # form the a coefficients\n",
    "a[0] = a[0]/2\n",
    "\n",
    "b = -2*imag(F[:nfmax])/nt # form the b coefficients\n",
    "\n",
    "p = sqrt(a**2 + b**2) # form power spectrum\n"
   ]
  },
  {
   "cell_type": "markdown",
   "metadata": {
    "id": "4p9iSNbQE3xf"
   },
   "source": [
    "This block makes some plots"
   ]
  },
  {
   "cell_type": "code",
   "execution_count": null,
   "metadata": {
    "id": "m22BWggSE6xU"
   },
   "outputs": [],
   "source": [
    "## make some plots\n",
    "\n",
    "figure(1)\n",
    "\n",
    "subplot(2,1,1)\n",
    "plot(t,f)\n",
    "title('Signal')\n",
    "\n",
    "subplot(2,1,2)\n",
    "plot(freq, a, 'o', label='Cosine')\n",
    "plot(freq, b, '*', label='Sine')\n",
    "plot(freq,p,'-', label='Power')\n",
    "legend()\n",
    "\n",
    "title('FFT Fourier Coefficients')\n",
    "xmax = max([f1, f2, f3, f4])*1.15 # find max value and pad a bit (15%)\n",
    "xlim(0, xmax)\n",
    "\n",
    "tight_layout() # prevent squished plot (matplotlib kludge)\n"
   ]
  }
 ],
 "metadata": {
  "colab": {
   "provenance": []
  },
  "kernelspec": {
   "display_name": "Python 3 (ipykernel)",
   "language": "python",
   "name": "python3"
  },
  "language_info": {
   "codemirror_mode": {
    "name": "ipython",
    "version": 3
   },
   "file_extension": ".py",
   "mimetype": "text/x-python",
   "name": "python",
   "nbconvert_exporter": "python",
   "pygments_lexer": "ipython3",
   "version": "3.9.7"
  }
 },
 "nbformat": 4,
 "nbformat_minor": 4
}
