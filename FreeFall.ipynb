{
 "cells": [
  {
   "cell_type": "markdown",
   "metadata": {},
   "source": [
    "# Free Fall"
   ]
  },
  {
   "cell_type": "markdown",
   "metadata": {},
   "source": [
    "To solve a 2nd order ODE, you need to conver it to a system of two 1st order ODEs. The dependent variables are the function and its derivative, so in general, a 2nd order ODE can be written<br>\n",
    "$$\\frac{d^2y}{dt^2}=f(t,y,y').$$\n",
    "We can write this as a system of two 1st order ODEs for the two dependent variables $y$ and $y'$:\n",
    "$$\\frac{dy}{dt}=y'$$\n",
    "$$\\frac{dy'}{dt}=f(t,y,y')$$\n",
    "The first equation is just the definition of $y'$ and the second is our original ODE.\n",
    "<br><br>\n",
    "For Newton's second law, this is very intuitive. $F=ma$ for a constant mass becomes the 2nd order ODE \n",
    "$$\\frac{d^2x}{dt^2} = \\frac{F(t,x,x')}{m}.$$ \n",
    "But if we write this in terms of two variables, $x$ and $v=x'$, it becomes the sytem\n",
    "$$\\frac{dx}{dt} = v$$\n",
    "$$\\frac{dv}{dt} = \\frac{F(t,x,x')}{m}$$\n",
    "As above, the first equation is just the definition of $v$ and the second is our original 2nd order ODE written as a 1nd order ODE in $v$.\n",
    "<br><br>\n",
    "To illustrate, consider a falling object with air resistance. It has two forces acting on it, gravity and drag. Gravity is just $F_g=-mg$. Let's assume drag is opposite the direction of velocity and proportional to $v^2$ with drag coeeficient $c$, so the crag force is $F_d=-cv^2$ for $v>0$. Let We can code this up as follows:"
   ]
  },
  {
   "cell_type": "code",
   "execution_count": 1,
   "metadata": {},
   "outputs": [],
   "source": [
    "from numpy import linspace,array,arange, log,exp,sin,cos,sqrt, pi, zeros, ones, sign\n",
    "import numpy as np\n",
    "\n",
    "g = 9.81\n",
    "c = 0.2 # Drag coefficient\n",
    "m = 10 # kg\n",
    "\n",
    "def falling( t, X ):\n",
    "    \"\"\"\n",
    "    RATE_FUNC for Newton's 2nd Law  F = ma\n",
    "    \n",
    "    2nd order ODE \n",
    "    a = d2x/dt2 = F/m\n",
    "    \n",
    "    System of 2 1st order ODE\n",
    "    dv/dt = F/m\n",
    "    dy/dt = v\n",
    "    \"\"\"\n",
    "#  unpack\n",
    "    y = X[0] # position\n",
    "    v = X[1] # velocity\n",
    "        \n",
    "    # compute forces\n",
    "        \n",
    "    Gravity = -m*g\n",
    "    Drag = -sign(v)*c*v**2\n",
    "    F = Gravity + Drag # Net Force\n",
    "        \n",
    "    # Compute acceleration according to Newton's second law\n",
    "        \n",
    "    a = F/m # acceleration\n",
    "        \n",
    "    # compute derivatives\n",
    "    dy = v\n",
    "    dv = a\n",
    "        \n",
    "    # pack rate array\n",
    "    rate = array([dy, dv])\n",
    "        \n",
    "    return rate"
   ]
  },
  {
   "cell_type": "markdown",
   "metadata": {},
   "source": [
    "This function take three input values (t, y, v) and returns two output values, the rates of change of y and v. For convienience, y and v are passed in the array X; dy dv are passed in the array rate. Note that we could have just set <pre>rate = array([v,a])</pre> but I wrote it this way to emphasize the logic.\n",
    "<br><br>\n",
    "So to solve this, first we need to define the initial conditions. Let's start at a height of $100\\ m$ and toss our mass upward at $20\\ m/s$ Since there are two variables, the i.c. will go into an array, Y0:"
   ]
  },
  {
   "cell_type": "code",
   "execution_count": 2,
   "metadata": {},
   "outputs": [],
   "source": [
    "# set some initial conditions\n",
    "y0 = 100\n",
    "v0 = 20\n",
    "Y0 = array([y0, v0]) # pack the i.c. into a column vector"
   ]
  },
  {
   "cell_type": "markdown",
   "metadata": {},
   "source": [
    "Now define an array of times at which we want to find the solution, starting with the time where the i.c. applies."
   ]
  },
  {
   "cell_type": "code",
   "execution_count": 3,
   "metadata": {},
   "outputs": [],
   "source": [
    "# set the time interval for solving\n",
    "Tstart=0\n",
    "Tend = 10 # s\n",
    "\n",
    "# Form Time array\n",
    "T = linspace(Tstart,Tend,100)"
   ]
  },
  {
   "cell_type": "markdown",
   "metadata": {},
   "source": [
    "Use odeint from scipy to solve. Note the tfirst=True flag to match how we defined <b>falling</b> above. The solution returned by odeint is an array with two columns and one row for each time step in T. Look at <b>falling</b>: y is first and v is second, so we follow that here when we \"unpack\" the columns."
   ]
  },
  {
   "cell_type": "code",
   "execution_count": 4,
   "metadata": {},
   "outputs": [],
   "source": [
    "# solve the ODE\n",
    "from scipy.integrate import odeint\n",
    "X = odeint(falling, Y0, T, tfirst=True)\n",
    "\n",
    "# unpack the results. In the output array, variables are columns, times are rows\n",
    "y = X[:,0]\n",
    "v = X[:,1]"
   ]
  },
  {
   "cell_type": "markdown",
   "metadata": {},
   "source": [
    "Now make some nice plots."
   ]
  },
  {
   "cell_type": "code",
   "execution_count": 5,
   "metadata": {},
   "outputs": [
    {
     "data": {
      "text/plain": [
       "<matplotlib.legend.Legend at 0x7fbc22ba4400>"
      ]
     },
     "execution_count": 5,
     "metadata": {},
     "output_type": "execute_result"
    },
    {
     "data": {
      "image/png": "[encoded data removed]",
      "text/plain": [
       "<Figure size 432x288 with 1 Axes>"
      ]
     },
     "metadata": {
      "needs_background": "light"
     },
     "output_type": "display_data"
    }
   ],
   "source": [
    "# make some nice plots\n",
    "from matplotlib.pyplot import plot,xlabel,ylabel,legend,show, figure, subplot, xlim\n",
    "\n",
    "plot (T,y, label='Height')\n",
    "plot (T,v, label='Velocity')\n",
    "xlabel('Seconds')\n",
    "ylabel('m or m/s')\n",
    "legend()"
   ]
  },
  {
   "cell_type": "markdown",
   "metadata": {},
   "source": [
    "Notice how velocity stabilizes with time due to drag. Try changing the i.c. or drag coefficient and try again."
   ]
  },
  {
   "cell_type": "code",
   "execution_count": null,
   "metadata": {},
   "outputs": [],
   "source": []
  }
 ],
 "metadata": {
  "kernelspec": {
   "display_name": "Python 3 (ipykernel)",
   "language": "python",
   "name": "python3"
  },
  "language_info": {
   "codemirror_mode": {
    "name": "ipython",
    "version": 3
   },
   "file_extension": ".py",
   "mimetype": "text/x-python",
   "name": "python",
   "nbconvert_exporter": "python",
   "pygments_lexer": "ipython3",
   "version": "3.8.11"
  }
 },
 "nbformat": 4,
 "nbformat_minor": 4
}
