{
 "cells": [
  {
   "cell_type": "markdown",
   "id": "2630ad4b",
   "metadata": {},
   "source": [
    "# Stick Game"
   ]
  },
  {
   "cell_type": "markdown",
   "id": "114b9ba9",
   "metadata": {},
   "source": [
    "Here are a few solutions to the stick game, including some python tricks. Notice that both variations require some shifting of the index value with runner+1 or child-1 somewhere. This is a common situation in writing loops and keeping track of a sequence. "
   ]
  },
  {
   "cell_type": "markdown",
   "id": "aa75b21a",
   "metadata": {},
   "source": [
    "in the following:\n",
    "   runner is an index running 0 to 99\n",
    "   child is an index running 0 to 99\n",
    "   \n",
    "This is not the desired number indicating their position in the\n",
    "line up, which are runner+1 and child+1\n",
    "\n",
    "So notice that in 2 places we need to use\n",
    "  runner+1\n",
    "  child+1\n"
   ]
  },
  {
   "cell_type": "markdown",
   "id": "f0f7db28",
   "metadata": {},
   "source": [
    "This version models the game by having the runner stop at every child and check if they are a multiple of themselves. The modulo operator % is used for the check:"
   ]
  },
  {
   "cell_type": "code",
   "execution_count": 1,
   "id": "9c0807c7",
   "metadata": {},
   "outputs": [],
   "source": [
    "from numpy import zeros, arange\n",
    "stick = zeros(100)\n",
    "\n",
    "for runner in range(100):\n",
    "    for child in range(runner,100):\n",
    "        # Check if child position is multiple of runner position\n",
    "        #   note that we need to add one to get their position from their index\n",
    "        if (child+1) % (runner+1) == 0:\n",
    "            if stick[child]==0:\n",
    "                stick[child]=1\n",
    "            else:\n",
    "                stick[child]=0"
   ]
  },
  {
   "cell_type": "markdown",
   "id": "cace4353",
   "metadata": {},
   "source": [
    "Finally, let's print out the whole array and the numbers for children with sticks:"
   ]
  },
  {
   "cell_type": "code",
   "execution_count": 2,
   "id": "463ffcd4",
   "metadata": {},
   "outputs": [
    {
     "name": "stdout",
     "output_type": "stream",
     "text": [
      "[1. 0. 0. 1. 0. 0. 0. 0. 1. 0. 0. 0. 0. 0. 0. 1. 0. 0. 0. 0. 0. 0. 0. 0.\n",
      " 1. 0. 0. 0. 0. 0. 0. 0. 0. 0. 0. 1. 0. 0. 0. 0. 0. 0. 0. 0. 0. 0. 0. 0.\n",
      " 1. 0. 0. 0. 0. 0. 0. 0. 0. 0. 0. 0. 0. 0. 0. 1. 0. 0. 0. 0. 0. 0. 0. 0.\n",
      " 0. 0. 0. 0. 0. 0. 0. 0. 1. 0. 0. 0. 0. 0. 0. 0. 0. 0. 0. 0. 0. 0. 0. 0.\n",
      " 0. 0. 0. 1.]\n",
      "Child number 1  has a stick\n",
      "Child number 4  has a stick\n",
      "Child number 9  has a stick\n",
      "Child number 16  has a stick\n",
      "Child number 25  has a stick\n",
      "Child number 36  has a stick\n",
      "Child number 49  has a stick\n",
      "Child number 64  has a stick\n",
      "Child number 81  has a stick\n",
      "Child number 100  has a stick\n"
     ]
    }
   ],
   "source": [
    "# print out the whole array                       \n",
    "print(stick)\n",
    "\n",
    "# formatted output listing who has a stick at the end\n",
    "for child in range(100):\n",
    "    if stick[child]==1: print('Child number', child+1, ' has a stick')"
   ]
  },
  {
   "cell_type": "markdown",
   "id": "a1d6e880",
   "metadata": {},
   "source": [
    "Now let's look at some other ways to do this.\n",
    "\n",
    "First, we can simplify this a bit by eliminating the check on child position by having the runner index go by a step size equal to their position, ie runner+1. This models the game by having the runner essentially count as they move down the line and only stop when the count equals their own number."
   ]
  },
  {
   "cell_type": "code",
   "execution_count": 3,
   "id": "25694509",
   "metadata": {},
   "outputs": [],
   "source": [
    "from numpy import zeros, arange\n",
    "stick = zeros(100)\n",
    "\n",
    "for runner in range(100):\n",
    "    # runner stops at any child a multple of their position\n",
    "    for child in range(runner,100, runner+1):\n",
    "        if stick[child]==0:\n",
    "            stick[child]=1\n",
    "        else:\n",
    "            stick[child]=0"
   ]
  },
  {
   "cell_type": "markdown",
   "id": "29faa91a",
   "metadata": {},
   "source": [
    "Next, we can eliminate the logic to check on stick=1 or 0 and just flip between 0 and 1 using the <b>not</b> operator:"
   ]
  },
  {
   "cell_type": "code",
   "execution_count": 4,
   "id": "a7ea86a0",
   "metadata": {
    "scrolled": true
   },
   "outputs": [],
   "source": [
    "from numpy import zeros, arange\n",
    "stick = zeros(100)\n",
    "\n",
    "for runner in range(100):\n",
    "    for child in range(runner,100, runner+1):\n",
    "        stick[child]=not stick[child]"
   ]
  },
  {
   "cell_type": "markdown",
   "id": "a86b825d",
   "metadata": {},
   "source": [
    "Logically, it is awkward to have the runner and child indexes run 0 to 99 when their real position runs 1 to 100. So, we can reconfigure like this:"
   ]
  },
  {
   "cell_type": "code",
   "execution_count": 5,
   "id": "6ebc00dd",
   "metadata": {},
   "outputs": [],
   "source": [
    "stick = zeros(100)\n",
    "\n",
    "for runner in range(1,100+1):\n",
    "    for child in range(runner,100+1,runner):\n",
    "        stick[child-1] = not stick[child-1]"
   ]
  },
  {
   "cell_type": "markdown",
   "id": "d768cb2c",
   "metadata": {},
   "source": [
    "Here's a clever way in python to create nice printed output:\n",
    "\n",
    "arange(1,101) is an array of numbers running 1 to 100\n",
    "[stick==1] selects only those indeces in this array where the stick array is 1."
   ]
  },
  {
   "cell_type": "code",
   "execution_count": 6,
   "id": "cb8348f5",
   "metadata": {},
   "outputs": [
    {
     "name": "stdout",
     "output_type": "stream",
     "text": [
      "These children end up with a stick:  [  1   4   9  16  25  36  49  64  81 100]\n"
     ]
    }
   ],
   "source": [
    "print('These children end up with a stick: ', arange(1,101)[stick==1])"
   ]
  },
  {
   "cell_type": "code",
   "execution_count": null,
   "id": "97e31541",
   "metadata": {},
   "outputs": [],
   "source": []
  }
 ],
 "metadata": {
  "kernelspec": {
   "display_name": "Python 3 (ipykernel)",
   "language": "python",
   "name": "python3"
  },
  "language_info": {
   "codemirror_mode": {
    "name": "ipython",
    "version": 3
   },
   "file_extension": ".py",
   "mimetype": "text/x-python",
   "name": "python",
   "nbconvert_exporter": "python",
   "pygments_lexer": "ipython3",
   "version": "3.9.12"
  }
 },
 "nbformat": 4,
 "nbformat_minor": 5
}
