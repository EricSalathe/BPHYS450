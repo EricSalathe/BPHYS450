{
 "cells": [
  {
   "cell_type": "markdown",
   "id": "430ad50d",
   "metadata": {},
   "source": [
    "## Rental Cars\n",
    "\n",
    "A car rental company has two locations, Albany and Boston. Some customers do “one-way rentals,” picking up a car in Albany and returning it in Boston, or the other way around. Each week 5% of the cars in Albany are dropped off in Boston, and 3% of the cars in Boston get dropped off in Albany. At the beginning of the year, there are 150 cars at each location.\n",
    "\n",
    "Write a program that plots the number of cars in Albany and Boston each week for 1 year (52 weeks) to find if the number of cars eventually stays the same. Mark both cities on the same plot with different symbols or colors.\n",
    "\n",
    "Hints:\n",
    "\n",
    "Create arrays boston and albany to contain the 52 values using the zeros function.\n",
    "\n",
    "First write the lines of code that update the number of cars in each location from one week to the next. Initialize the variables Albany and Boston with the number of cars in each location at the beginning of the week. Calculate the number of cars moving Albany->Boston and Boston->Albany. Then compute the next values for the arrays albany and boston.\n",
    "\n",
    "Put this in a loop to repeat for 52 weeks\n",
    "\n",
    "Note: cars are countable things, so a and b should always be integer values. You can use the rint function in numpy to round off the number of cars that move during each week. \n",
    "https://numpy.org/doc/stable/reference/generated/numpy.rint.html\n",
    "\n",
    "You can start your program like this. A couple things to notice:\n",
    "\n",
    "1) I define the percent of cars moving each way as a variable right up top. This way I \n",
    "    a) avoid accidentally using different values later \n",
    "    b) can easily change the percentages to run a new simulation.\n",
    "\n",
    "2) I created empty arrays to contain the number of cars for each week. The simulations will fill these in.\n"
   ]
  },
  {
   "cell_type": "code",
   "execution_count": 1,
   "id": "36aae46e",
   "metadata": {},
   "outputs": [],
   "source": [
    "from numpy import zeros, rint\n",
    "\n",
    "# Fraction of one-way rentals\n",
    "FrAtoB = 5/100 # Fraction Albany to Boston\n",
    "FrBtoA = 3/100 # Fraction Boston to Albany\n",
    "\n",
    "# Initiallize arrays for number of cars\n",
    "nweek=52 # number of weeks in a year\n",
    "Albany = zeros(nweek)\n",
    "Boston = zeros(nweek)"
   ]
  },
  {
   "cell_type": "markdown",
   "id": "61e9ba9b",
   "metadata": {},
   "source": [
    "Now let's do the simulation. Start at week zero with initial values"
   ]
  },
  {
   "cell_type": "code",
   "execution_count": 2,
   "id": "8c831892",
   "metadata": {},
   "outputs": [],
   "source": [
    "Albany[0] = 150\n",
    "Boston[0] = 150"
   ]
  },
  {
   "cell_type": "markdown",
   "id": "28e60fc1",
   "metadata": {},
   "source": [
    "Now loop over weeks and move cars. Note the folloowing:\n",
    "\n",
    "1) I compute the number of cars moved each way separately and add/subtract exactly the same to each city. This forces conservbation of cars and is actully more efficient (fewer calculations). As a physicist, we are more concerned with making sure we preserve the laws of physics than that our code is \"efficient\".\n",
    "\n",
    "2) Cars come in whole numbers, not fractions! So use rint to round to nearest integer."
   ]
  },
  {
   "cell_type": "code",
   "execution_count": 3,
   "id": "9d58ce24",
   "metadata": {},
   "outputs": [],
   "source": [
    "for i in range(1,nweek):\n",
    "    # calculate the total number of cars going one-way to each city\n",
    "    # and round to the nearest integer -- cars are always whole!\n",
    "    AtoB = rint(FrAtoB*Albany[i-1])\n",
    "    BtoA = rint(FrBtoA*Boston[i-1])\n",
    "    \n",
    "    Albany[i] = Albany[i-1] - AtoB + BtoA\n",
    "    Boston[i] = Boston[i-1] + AtoB - BtoA "
   ]
  },
  {
   "cell_type": "markdown",
   "id": "c01ec62a",
   "metadata": {},
   "source": [
    "## Plots\n",
    "\n",
    "When complete, plot a the number of cars at each week using the pyplot package https://matplotlib.org/tutorials/introductory/pyplot.html\n"
   ]
  },
  {
   "cell_type": "code",
   "execution_count": 4,
   "id": "8b5e801d",
   "metadata": {},
   "outputs": [
    {
     "data": {
      "image/png": "[encoded data removed]",
      "text/plain": [
       "<Figure size 432x288 with 1 Axes>"
      ]
     },
     "metadata": {
      "needs_background": "light"
     },
     "output_type": "display_data"
    }
   ],
   "source": [
    "# Plot the resuls\n",
    "from matplotlib.pyplot import figure, plot, show, xlim, xlabel, title, legend\n",
    "import matplotlib.pyplot as plt\n",
    "\n",
    "figure()\n",
    "plot(arange(nweek), Albany, 'ro', label='Albany') # note that our x axis is just the sequence\n",
    "plot(arange(nweek), Boston, 'bo', label='Boston') # 1,2,...,52 which we make with 1:Nweeks\n",
    "\n",
    "# Annotate the plot\n",
    "xlim((0, nweek)) # adujust x-axis limits\n",
    "xlabel('Week')\n",
    "ylabel('Number of Cars')\n",
    "title('Rental Cars')\n",
    "legend() \n",
    "show()"
   ]
  },
  {
   "cell_type": "code",
   "execution_count": null,
   "id": "c52732c8",
   "metadata": {},
   "outputs": [],
   "source": []
  }
 ],
 "metadata": {
  "kernelspec": {
   "display_name": "Python 3 (ipykernel)",
   "language": "python",
   "name": "python3"
  },
  "language_info": {
   "codemirror_mode": {
    "name": "ipython",
    "version": 3
   },
   "file_extension": ".py",
   "mimetype": "text/x-python",
   "name": "python",
   "nbconvert_exporter": "python",
   "pygments_lexer": "ipython3",
   "version": "3.9.12"
  }
 },
 "nbformat": 4,
 "nbformat_minor": 5
}
