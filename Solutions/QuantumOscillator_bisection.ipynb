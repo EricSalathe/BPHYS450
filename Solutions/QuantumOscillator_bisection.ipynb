{
 "cells": [
  {
   "cell_type": "markdown",
   "metadata": {},
   "source": [
    "## Quantum Oscillator"
   ]
  },
  {
   "cell_type": "markdown",
   "metadata": {
    "id": "wo1kTdK3MRrq"
   },
   "source": [
    "Our goal is to solve the one-dimensional, time-independent Schrodinger equation wave function for an electron in a harmonic (i.e., quadratic) potential \n",
    "\n",
    "\\begin{equation}\n",
    "V\\left(x\\right)=V_0\\left(\\frac{x^2}{a^2}\\right)\\\n",
    "\\end{equation}\n",
    "where $V_0= 50$ eV  and $a=1\\times 10^{11}$ m are constants. Use $\\hbar = 197\\times10^{-9} eV/c$ and $m = 0.511\\times10^6 eV/c^2$ for electron mass.\n",
    "\n",
    "The 1-D schrodinger equation is \n",
    "\\begin{equation}\n",
    "-\\frac{\\hbar}{2m}\\frac{d^2 \\psi}{d x^2} + V(x)\\psi(x)=E\\psi(x)\n",
    "\\end{equation}\n",
    "\n",
    "We will use units of energy in eV, so  $\\hbar$ becomes $\\hbar c $and $m$ becomes $mc^2$ in the Schrodinger Eqn.\n",
    "\n",
    "The Schrodinger equation has solutions only for discreet values of E, which are unknown. So, to solve this numerically, you will guess at the energy E for the ground state. Then solve the equation by starting at the left boundary (x = -∞) and check if the right boundary value is correct. Then adjust the value of E until you can match the right boundary (x = +∞).\n",
    "\n",
    "Note that in theory the wavefunction goes all the way out to x = ±∞, but you can get good answers by using a large but finite interval. Try using x = −10a to +10a, with the wavefunction ψ = 0 at both boundaries. (In effect, you are putting the harmonic oscillator in a 20a wide box with impenetrable walls.) The wavefunction is real everywhere, so you don’t need to use complex variables, and you can use evenly spaced points in x for the solution (use linspace to create 100 points from -10a to +10a). The first derivative of the wave function is arbitrary since the solutions are equivalent relative to a normalizing factor, so set it to 1.\n",
    "\n"
   ]
  },
  {
   "cell_type": "markdown",
   "metadata": {
    "id": "2L9BICcMRltv"
   },
   "source": [
    "Load modules"
   ]
  },
  {
   "cell_type": "code",
   "execution_count": 2,
   "metadata": {
    "executionInfo": {
     "elapsed": 4,
     "status": "ok",
     "timestamp": 1643843286656,
     "user": {
      "displayName": "Carolina Li",
      "photoUrl": "https://lh3.googleusercontent.com/a/default-user=s64",
      "userId": "09962341498662741976"
     },
     "user_tz": 480
    },
    "id": "KZ6TiTvLMQ95"
   },
   "outputs": [],
   "source": [
    "from scipy.integrate import odeint\n",
    "from numpy import linspace,array,zeros,log,exp,sin,cos,sqrt,pi,e, arange\n",
    "from matplotlib.pyplot import plot,xlabel,ylabel,legend,show, figure, subplot, xlim"
   ]
  },
  {
   "cell_type": "markdown",
   "metadata": {
    "id": "xvu_rEWpOpE0"
   },
   "source": [
    "Set parameters for the problem"
   ]
  },
  {
   "cell_type": "code",
   "execution_count": 3,
   "metadata": {
    "executionInfo": {
     "elapsed": 4,
     "status": "ok",
     "timestamp": 1643843286657,
     "user": {
      "displayName": "Carolina Li",
      "photoUrl": "https://lh3.googleusercontent.com/a/default-user=s64",
      "userId": "09962341498662741976"
     },
     "user_tz": 480
    },
    "id": "NuNbmA_OOkd8"
   },
   "outputs": [],
   "source": [
    "V0= 50\n",
    "a=1.e-11 # m\n",
    "hbar=197*1e-9 # hbar-c\n",
    "m=0.511*1e6 # eV/c2"
   ]
  },
  {
   "cell_type": "markdown",
   "metadata": {
    "id": "NjHhxOF-PvTu"
   },
   "source": [
    "1) Write down the time-independent Schrodinger equation for this problem and convert it from a second-order equation to two first-order ones (ie for $\\psi$ and $\\psi\\prime$). Follow the lotka example in python to write a two-variable rate function for dpsi and dpsi_p.\n"
   ]
  },
  {
   "cell_type": "markdown",
   "metadata": {
    "id": "AUWZsb8POj3N"
   },
   "source": [
    "Create our diff eq."
   ]
  },
  {
   "cell_type": "code",
   "execution_count": 4,
   "metadata": {
    "executionInfo": {
     "elapsed": 4,
     "status": "ok",
     "timestamp": 1643843286657,
     "user": {
      "displayName": "Carolina Li",
      "photoUrl": "https://lh3.googleusercontent.com/a/default-user=s64",
      "userId": "09962341498662741976"
     },
     "user_tz": 480
    },
    "id": "1cTaWlsNNrqX"
   },
   "outputs": [],
   "source": [
    "def schrodinger(x, Y):\n",
    "    # unpack\n",
    "    psi = Y[0]\n",
    "    psi_p = Y[1]\n",
    "    \n",
    "    # compute rates\n",
    "    Pot = V0*(x/a)**2\n",
    "    dpsi_p = -(2*m/hbar**2)*(E-Pot)*psi\n",
    "    dpsi = psi_p\n",
    "            \n",
    "        # pack rates into column vector\n",
    "    rate = array([dpsi, dpsi_p])\n",
    "    return rate"
   ]
  },
  {
   "cell_type": "markdown",
   "metadata": {
    "id": "3JNku9mC93qm"
   },
   "source": [
    "Set the initial values of $\\psi(x=-10a)=0$ and $\\psi'(x=-10a)=1$ (the first derivative is arbitrary since the solutions are equivalent to a normalization factor)\n"
   ]
  },
  {
   "cell_type": "code",
   "execution_count": 5,
   "metadata": {
    "executionInfo": {
     "elapsed": 2,
     "status": "ok",
     "timestamp": 1643843288688,
     "user": {
      "displayName": "Carolina Li",
      "photoUrl": "https://lh3.googleusercontent.com/a/default-user=s64",
      "userId": "09962341498662741976"
     },
     "user_tz": 480
    },
    "id": "1m8zjsFg99S-"
   },
   "outputs": [],
   "source": [
    "psi0 = 0\n",
    "dpsi0 = 1\n",
    "Y0 = array([psi0, dpsi0]) # pack the i.c. into array\n",
    "\n",
    "\n",
    "# set the space interval for solving\n",
    "Xstart= -10*a\n",
    "Xend = 10*a \n",
    "\n",
    "# Form space array with 100 points\n",
    "\n",
    "X = linspace(Xstart,Xend,100)"
   ]
  },
  {
   "cell_type": "markdown",
   "metadata": {
    "id": "Th_Asb-XQMLz"
   },
   "source": [
    "2) Use odeing to solve a test case for  E = 413 eV. \n",
    "\n",
    "Plot over the range -5a < x < 5a \n",
    "\n",
    "**Note** the added arguement in ODEINT to pass the value of E to schrodinger.\n"
   ]
  },
  {
   "cell_type": "code",
   "execution_count": 6,
   "metadata": {
    "colab": {
     "base_uri": "https://localhost:8080/",
     "height": 306
    },
    "executionInfo": {
     "elapsed": 307,
     "status": "ok",
     "timestamp": 1643843290033,
     "user": {
      "displayName": "Carolina Li",
      "photoUrl": "https://lh3.googleusercontent.com/a/default-user=s64",
      "userId": "09962341498662741976"
     },
     "user_tz": 480
    },
    "id": "fdrVXYjOOhoQ",
    "outputId": "656482b1-eace-436d-a422-bbfac4bb5e1e"
   },
   "outputs": [
    {
     "name": "stdout",
     "output_type": "stream",
     "text": [
      "413 -0.04820572530611719\n"
     ]
    },
    {
     "data": {
      "text/plain": [
       "(-4.9999999999999995e-11, 4.9999999999999995e-11)"
      ]
     },
     "execution_count": 6,
     "metadata": {},
     "output_type": "execute_result"
    },
    {
     "data": {
      "image/png": "[encoded data removed]",
      "text/plain": [
       "<Figure size 432x288 with 1 Axes>"
      ]
     },
     "metadata": {
      "needs_background": "light"
     },
     "output_type": "display_data"
    }
   ],
   "source": [
    "E = 413\n",
    "solution = odeint(schrodinger, Y0, X, tfirst=True)\n",
    "# unpack\n",
    "psi = solution[:,0]\n",
    "dpsi = solution[:,1]\n",
    "\n",
    "print(E, psi[-1])\n",
    "\n",
    "plot(X[30:-30],psi[30:-30])\n",
    "xlim(-5*a,5*a)"
   ]
  },
  {
   "cell_type": "markdown",
   "metadata": {
    "id": "JrR4Z8WKVyYn"
   },
   "source": [
    "3) How  can we find the right values (eigenvalues) for E where there is a solution?\n",
    "\n",
    "The ground state has energy in the range 100 to 200 eV. Create a loop and adjust E from 100 to 200 in steps of 1 eV. \n",
    "Inside the loop, solve the Schrodinger equation with the initial conditions.\n",
    "Print out value of psi at the end point (  psi[-1] ). The correct eigen state will have psi(+10a)=0. Select the value of E that comes closest. You can do this by by inspecting your output. Or you can write code to plot E vs psi or some other way to select the minimum if you want to get fancy. You can refine your answer by repeating the loop over a smaller interval (eg by 0.1 steps around the closes two values from the first time) or just interpolate.\n"
   ]
  },
  {
   "cell_type": "code",
   "execution_count": 15,
   "metadata": {
    "id": "58UOM1fdW8Ja"
   },
   "outputs": [
    {
     "name": "stdout",
     "output_type": "stream",
     "text": [
      "130.0 77.56351759176007\n",
      "130.5 71.96061682865124\n",
      "131.0 66.44824983346695\n",
      "131.5 61.02535861610921\n",
      "132.0 55.69090616161148\n",
      "132.5 50.44382960460619\n",
      "133.0 45.28316916741447\n",
      "133.5 40.20770602748338\n",
      "134.0 35.21655989728612\n",
      "134.5 30.308737556011362\n",
      "135.0 25.483202785890047\n",
      "135.5 20.738952884908674\n",
      "136.0 16.0750636255623\n",
      "136.5 11.490533267499524\n",
      "137.0 6.984415725678425\n",
      "137.5 2.5557614539980857\n",
      "138.0 -1.7963446513244383\n",
      "138.5 -6.072881252058582\n",
      "139.0 -10.274746739395546\n",
      "139.5 -14.402827850317369\n"
     ]
    }
   ],
   "source": [
    "for E in arange(130,140,0.5):\n",
    "    solution = odeint(schrodinger, Y0, X, tfirst=True)\n",
    "# unpack\n",
    "    psi = solution[:,0]\n",
    "    dpsi = solution[:,1]\n",
    "    \n",
    "    print(E, psi[-1])\n"
   ]
  },
  {
   "cell_type": "markdown",
   "metadata": {},
   "source": [
    "From the ab=ove output, we can estimate that E=137.8 So try plotting for this value:"
   ]
  },
  {
   "cell_type": "code",
   "execution_count": 7,
   "metadata": {},
   "outputs": [
    {
     "name": "stdout",
     "output_type": "stream",
     "text": [
      "137.8 -0.06463709182691621\n"
     ]
    },
    {
     "data": {
      "text/plain": [
       "(-4.9999999999999995e-11, 4.9999999999999995e-11)"
      ]
     },
     "execution_count": 7,
     "metadata": {},
     "output_type": "execute_result"
    },
    {
     "data": {
      "image/png": "[encoded data removed]",
      "text/plain": [
       "<Figure size 432x288 with 1 Axes>"
      ]
     },
     "metadata": {
      "needs_background": "light"
     },
     "output_type": "display_data"
    }
   ],
   "source": [
    "E = 137.8\n",
    "solution = odeint(schrodinger, Y0, X, tfirst=True)\n",
    "# unpack\n",
    "psi = solution[:,0]\n",
    "dpsi = solution[:,1]\n",
    "\n",
    "print(E, psi[-1])\n",
    "\n",
    "plot(X[30:-30],psi[30:-30])\n",
    "xlim(-5*a,5*a)"
   ]
  },
  {
   "cell_type": "markdown",
   "metadata": {},
   "source": [
    "## Using bisection method to find E\n",
    "\n",
    "Basically we were finding a root by eye--estimating the value E where the table above crossed from positive to negative. We can use a bisection method to do this more precisely! First create a function LeftBoundary(E). We  want to find the roots of this function. I use a little trick here for lassing E to our schrodinger function by making a global variable. "
   ]
  },
  {
   "cell_type": "code",
   "execution_count": 16,
   "metadata": {},
   "outputs": [],
   "source": [
    "def  LeftBoundary(Ein):\n",
    "    global E\n",
    "    E = Ein\n",
    "    solution = odeint(schrodinger, Y0, X, tfirst=True)\n",
    "# unpack\n",
    "    psi = solution[:,0]\n",
    "    dpsi = solution[:,1]\n",
    "\n",
    "    return psi[-1]"
   ]
  },
  {
   "cell_type": "markdown",
   "metadata": {},
   "source": [
    "Now use brentq to find a root between 100 and 200:"
   ]
  },
  {
   "cell_type": "code",
   "execution_count": 27,
   "metadata": {},
   "outputs": [
    {
     "name": "stdout",
     "output_type": "stream",
     "text": [
      "Energy level =  137.79256202688066\n"
     ]
    }
   ],
   "source": [
    "from scipy.optimize import brentq\n",
    "\n",
    "E_level = brentq(LeftBoundary, 100, 200)\n",
    "print ('Energy level = ', E_level)"
   ]
  },
  {
   "cell_type": "markdown",
   "metadata": {},
   "source": [
    "Now find a root between 600 and 700"
   ]
  },
  {
   "cell_type": "code",
   "execution_count": 29,
   "metadata": {},
   "outputs": [
    {
     "name": "stdout",
     "output_type": "stream",
     "text": [
      "Energy level =  688.9627974182233\n"
     ]
    }
   ],
   "source": [
    "E_level = brentq(LeftBoundary, 600, 700)\n",
    "print ('Energy level = ', E_level)"
   ]
  },
  {
   "cell_type": "code",
   "execution_count": 30,
   "metadata": {},
   "outputs": [
    {
     "name": "stdout",
     "output_type": "stream",
     "text": [
      "688.9627974182233 5.727227530242985e-15\n"
     ]
    },
    {
     "data": {
      "text/plain": [
       "(-9.999999999999999e-11, 9.999999999999999e-11)"
      ]
     },
     "execution_count": 30,
     "metadata": {},
     "output_type": "execute_result"
    },
    {
     "data": {
      "image/png": "[encoded data removed]",
      "text/plain": [
       "<Figure size 432x288 with 1 Axes>"
      ]
     },
     "metadata": {
      "needs_background": "light"
     },
     "output_type": "display_data"
    }
   ],
   "source": [
    "E = E_level\n",
    "solution = odeint(schrodinger, Y0, X, tfirst=True)\n",
    "# unpack\n",
    "psi = solution[:,0]\n",
    "dpsi = solution[:,1]\n",
    "\n",
    "print(E, psi[-1])\n",
    "\n",
    "plot(X,psi)\n",
    "xlim(-10*a,10*a)"
   ]
  },
  {
   "cell_type": "code",
   "execution_count": null,
   "metadata": {},
   "outputs": [],
   "source": []
  }
 ],
 "metadata": {
  "colab": {
   "collapsed_sections": [],
   "name": "QuantumOscillator template.ipynb",
   "provenance": []
  },
  "kernelspec": {
   "display_name": "Python 3 (ipykernel)",
   "language": "python",
   "name": "python3"
  },
  "language_info": {
   "codemirror_mode": {
    "name": "ipython",
    "version": 3
   },
   "file_extension": ".py",
   "mimetype": "text/x-python",
   "name": "python",
   "nbconvert_exporter": "python",
   "pygments_lexer": "ipython3",
   "version": "3.9.7"
  }
 },
 "nbformat": 4,
 "nbformat_minor": 4
}
