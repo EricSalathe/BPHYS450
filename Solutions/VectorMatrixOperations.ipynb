{
 "cells": [
  {
   "cell_type": "markdown",
   "id": "45aa7c12",
   "metadata": {},
   "source": [
    "## Vectors and Matrices in Python"
   ]
  },
  {
   "cell_type": "markdown",
   "id": "add3054c",
   "metadata": {},
   "source": [
    "Vectors and Matrices are not native to python and there are various ways to work with these in numpy. Below I show some of the options and pitfalls. My preference is to make my code look as much like my math as possible, so that helps steer the choices I make."
   ]
  },
  {
   "cell_type": "markdown",
   "id": "01003c9f",
   "metadata": {},
   "source": [
    "A numpy array with n elements is basically an n-tuple and a vector in $R^n$. For many operations, this works fine. numpy includes a dot and cross product funtion to work with arrays as vectors.\n",
    "\n",
    "Here I define two vectors as numpy arrays and take cross, dot product. Note that standard multiplication and addition operate <b>elementwise</b>."
   ]
  },
  {
   "cell_type": "code",
   "execution_count": 23,
   "id": "58610c89",
   "metadata": {},
   "outputs": [
    {
     "name": "stdout",
     "output_type": "stream",
     "text": [
      "a =  [1 1 0]\n",
      "b =  [0 1 1]\n",
      "Multiply:  [0 1 0]\n",
      "Add:  [1 2 1]\n",
      "dot prod:  1\n",
      "cross prod:  [ 1 -1  1]\n"
     ]
    }
   ],
   "source": [
    "from numpy import array, dot, cross\n",
    "\n",
    "a = array([1,1,0])\n",
    "b = array([0,1,1])\n",
    "\n",
    "print('a = ',a)\n",
    "print('b = ',b)\n",
    "print('Multiply: ', a*b)\n",
    "print('Add: ',a+b)\n",
    "print('dot prod: ',dot(a,b))\n",
    "print('cross prod: ', cross(a,b))"
   ]
  },
  {
   "cell_type": "markdown",
   "id": "ce7db64a",
   "metadata": {},
   "source": [
    "Now we'd like to make matrices. The best way is to treat a matrix as an array of row vectors, with each row vector itself an array. That is, it is an array of arrays. You can make tensors this way too!\n",
    "\n",
    "Adding .T to a matrix takes its transpose\n",
    "\n",
    "Here is the 3x3 identity matrix and another 3x3 matrix:"
   ]
  },
  {
   "cell_type": "code",
   "execution_count": 24,
   "id": "bd5641e5",
   "metadata": {},
   "outputs": [
    {
     "name": "stdout",
     "output_type": "stream",
     "text": [
      "A=\n",
      " [[1 2 3]\n",
      " [4 5 6]\n",
      " [8 8 9]]\n",
      "Transpose A=\n",
      " [[1 4 8]\n",
      " [2 5 8]\n",
      " [3 6 9]]\n",
      "M=\n",
      " [[1 0 0]\n",
      " [0 1 0]\n",
      " [0 0 1]]\n"
     ]
    }
   ],
   "source": [
    "M = array([[1,0,0],[0,1,0],[0,0,1]])\n",
    "A = array([[1,2,3],[4,5,6],[8,8,9]])\n",
    "print('A=\\n',A)\n",
    "print('Transpose A=\\n',A.T)\n",
    "\n",
    "print('M=\\n',M)"
   ]
  },
  {
   "cell_type": "markdown",
   "id": "690042b8",
   "metadata": {},
   "source": [
    "There are several ways to try multiplying. \n",
    "\n",
    "\\* does elementwise like for any array. \n",
    "\n",
    "numpy matmul(A,B) does standard matrix multiplication\n",
    "\n",
    "The @ operator stands in for matrix multiplication. I avoid this because it seems a bit obscure."
   ]
  },
  {
   "cell_type": "code",
   "execution_count": 25,
   "id": "86329bfd",
   "metadata": {},
   "outputs": [
    {
     "name": "stdout",
     "output_type": "stream",
     "text": [
      "[[1 0 0]\n",
      " [0 5 0]\n",
      " [0 0 9]]\n",
      "[[1 2 3]\n",
      " [4 5 6]\n",
      " [8 8 9]]\n",
      "[[1 2 3]\n",
      " [4 5 6]\n",
      " [8 8 9]]\n",
      "[[1 4 8]\n",
      " [2 5 8]\n",
      " [3 6 9]]\n"
     ]
    }
   ],
   "source": [
    "print(A*M)\n",
    "print(matmul(M,A))\n",
    "print(A@M)\n",
    "print(A.T)"
   ]
  },
  {
   "cell_type": "markdown",
   "id": "43473f82",
   "metadata": {},
   "source": [
    "The problem is when using vectors and matrices together. We think of vectors as 1xn matrices. So the dot product is matrix multiplication with transpose: $a \\cdot b = ab^T$\n",
    "using the shape rule (nxm)(mxl)->(nxl)\n",
    "\n",
    "If we use matmul naively with the arrays a and b, we get unexpected results:"
   ]
  },
  {
   "cell_type": "code",
   "execution_count": 29,
   "id": "6a7af0b9",
   "metadata": {},
   "outputs": [
    {
     "name": "stdout",
     "output_type": "stream",
     "text": [
      "1\n",
      "1\n",
      "1\n",
      "1\n",
      "[5 7 9]\n",
      "[ 3  9 16]\n"
     ]
    }
   ],
   "source": [
    "print(matmul(a,b))\n",
    "print(matmul(b,a))\n",
    "print(matmul(a,b.T))\n",
    "print(matmul(b.T,a))\n",
    "\n",
    "print(matmul(a,A))\n",
    "print(matmul(A,a))"
   ]
  },
  {
   "cell_type": "markdown",
   "id": "71db3a93",
   "metadata": {},
   "source": [
    "The shape function returns the shape of an object. Note how my matrices are the expected shape but a and b have a second undefined dimension:"
   ]
  },
  {
   "cell_type": "code",
   "execution_count": 13,
   "id": "3b22505c",
   "metadata": {},
   "outputs": [
    {
     "name": "stdout",
     "output_type": "stream",
     "text": [
      "(3, 3)\n",
      "(3,)\n"
     ]
    }
   ],
   "source": [
    "print(shape(A))\n",
    "print(shape(a))"
   ]
  },
  {
   "cell_type": "markdown",
   "id": "d0326082",
   "metadata": {},
   "source": [
    "The solution is to explcitly make my vectors 1xn matrices, which gives the expected behavior:"
   ]
  },
  {
   "cell_type": "code",
   "execution_count": 30,
   "id": "4f1ca31f",
   "metadata": {},
   "outputs": [
    {
     "name": "stdout",
     "output_type": "stream",
     "text": [
      "a =  [[1 1 0]]\n",
      "b =  [[0 1 1]]\n",
      "a b.T = \n",
      " [[1]]\n",
      "b.T a = \n",
      " [[0 0 0]\n",
      " [1 1 0]\n",
      " [1 1 0]]\n",
      "a A = \n",
      " [[5 7 9]]\n",
      "A aT = \n",
      " [[ 3]\n",
      " [ 9]\n",
      " [16]]\n"
     ]
    }
   ],
   "source": [
    "a = array([[1,1,0]])\n",
    "b = array([[0,1,1]])\n",
    "\n",
    "print('a = ',a)\n",
    "print('b = ',b)\n",
    "\n",
    "\n",
    "print('a b.T = \\n',matmul(a,b.T))\n",
    "print('b.T a = \\n',matmul(b.T,a))\n",
    "\n",
    "print('a A = \\n', matmul(a,A))\n",
    "print('A aT = \\n', matmul(A,a.T))"
   ]
  },
  {
   "cell_type": "code",
   "execution_count": null,
   "id": "db1e64e0",
   "metadata": {},
   "outputs": [],
   "source": []
  }
 ],
 "metadata": {
  "kernelspec": {
   "display_name": "Python 3 (ipykernel)",
   "language": "python",
   "name": "python3"
  },
  "language_info": {
   "codemirror_mode": {
    "name": "ipython",
    "version": 3
   },
   "file_extension": ".py",
   "mimetype": "text/x-python",
   "name": "python",
   "nbconvert_exporter": "python",
   "pygments_lexer": "ipython3",
   "version": "3.9.12"
  }
 },
 "nbformat": 4,
 "nbformat_minor": 5
}
