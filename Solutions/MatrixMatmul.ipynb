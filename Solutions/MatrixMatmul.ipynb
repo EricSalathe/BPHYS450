{
 "cells": [
  {
   "cell_type": "code",
   "execution_count": 1,
   "metadata": {},
   "outputs": [],
   "source": [
    "from numpy import array\n",
    "M = array([[1,2,3],[4,5,6]])"
   ]
  },
  {
   "cell_type": "code",
   "execution_count": 2,
   "metadata": {},
   "outputs": [
    {
     "name": "stdout",
     "output_type": "stream",
     "text": [
      "[[1 2 3]\n",
      " [4 5 6]]\n"
     ]
    }
   ],
   "source": [
    "print(M)"
   ]
  },
  {
   "cell_type": "code",
   "execution_count": 7,
   "metadata": {},
   "outputs": [
    {
     "name": "stdout",
     "output_type": "stream",
     "text": [
      "AB=\n",
      "[[ 0 -2  1]\n",
      " [-3  4 -1]\n",
      " [ 3 -2  0]]\n",
      "BA=\n",
      "[[ 0 -1  1]\n",
      " [-2  4 -2]\n",
      " [ 3 -3  0]]\n"
     ]
    }
   ],
   "source": [
    "from numpy import matmul\n",
    "A = array([[1,-1,0],[-1,2,-1],[0,-1,1]])\n",
    "B = array([[0,0,1],[0,2,0],[3,0,0]])\n",
    "print('AB=')\n",
    "print(matmul(A,B))\n",
    "print('BA=')\n",
    "print(matmul(B,A))"
   ]
  },
  {
   "cell_type": "code",
   "execution_count": 4,
   "metadata": {},
   "outputs": [
    {
     "name": "stdout",
     "output_type": "stream",
     "text": [
      "First  pair: 1.25 [1. 0.]\n",
      "Second pair: 0.75 [0. 1.]\n"
     ]
    }
   ],
   "source": [
    "from numpy.linalg import eig\n",
    "A = array([[5/4,0],[0,3/4]])\n",
    "w,v = eig(A)\n",
    "print('First  pair:',w[0], v[:,0])\n",
    "print('Second pair:',w[1], v[:,1])"
   ]
  },
  {
   "cell_type": "code",
   "execution_count": 5,
   "metadata": {},
   "outputs": [
    {
     "name": "stdout",
     "output_type": "stream",
     "text": [
      "[1.25 0.  ]\n",
      "[1.25 0.  ]\n"
     ]
    }
   ],
   "source": [
    "print(matmul(A,v[:,0]))\n",
    "print(w[0]*v[:,0])"
   ]
  },
  {
   "cell_type": "code",
   "execution_count": 6,
   "metadata": {},
   "outputs": [
    {
     "name": "stdout",
     "output_type": "stream",
     "text": [
      "[0.   0.75]\n",
      "[0.   0.75]\n"
     ]
    }
   ],
   "source": [
    "print(matmul(A,v[:,1]))\n",
    "print(w[1]*v[:,1])"
   ]
  },
  {
   "cell_type": "code",
   "execution_count": null,
   "metadata": {},
   "outputs": [],
   "source": []
  }
 ],
 "metadata": {
  "kernelspec": {
   "display_name": "Python 3 (ipykernel)",
   "language": "python",
   "name": "python3"
  },
  "language_info": {
   "codemirror_mode": {
    "name": "ipython",
    "version": 3
   },
   "file_extension": ".py",
   "mimetype": "text/x-python",
   "name": "python",
   "nbconvert_exporter": "python",
   "pygments_lexer": "ipython3",
   "version": "3.8.11"
  }
 },
 "nbformat": 4,
 "nbformat_minor": 4
}
